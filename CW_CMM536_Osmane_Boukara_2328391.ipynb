{
 "cells": [
  {
   "cell_type": "markdown",
   "id": "04177914-81f4-4066-9bf7-77733c535a4b",
   "metadata": {
    "id": "04177914-81f4-4066-9bf7-77733c535a4b"
   },
   "source": [
    "# ***Course Work***"
   ]
  },
  {
   "cell_type": "code",
   "execution_count": 1,
   "id": "9fc92971-ac1f-4bbe-bbf0-8595867fc4b6",
   "metadata": {
    "colab": {
     "base_uri": "https://localhost:8080/"
    },
    "id": "9fc92971-ac1f-4bbe-bbf0-8595867fc4b6",
    "outputId": "d891fd2e-c4ba-42d3-84e5-8be59aeae930"
   },
   "outputs": [
    {
     "name": "stdout",
     "output_type": "stream",
     "text": [
      "Requirement already satisfied: opencv-python in c:\\users\\obouk\\anaconda3\\lib\\site-packages (4.9.0.80)\n",
      "Requirement already satisfied: numpy>=1.21.2 in c:\\users\\obouk\\anaconda3\\lib\\site-packages (from opencv-python) (1.24.3)\n",
      "Requirement already satisfied: tensorflow in c:\\users\\obouk\\anaconda3\\lib\\site-packages (2.12.1)\n",
      "Requirement already satisfied: tensorflow-intel==2.12.1 in c:\\users\\obouk\\anaconda3\\lib\\site-packages (from tensorflow) (2.12.1)\n",
      "Requirement already satisfied: absl-py>=1.0.0 in c:\\users\\obouk\\anaconda3\\lib\\site-packages (from tensorflow-intel==2.12.1->tensorflow) (2.1.0)\n",
      "Requirement already satisfied: astunparse>=1.6.0 in c:\\users\\obouk\\anaconda3\\lib\\site-packages (from tensorflow-intel==2.12.1->tensorflow) (1.6.3)\n",
      "Requirement already satisfied: flatbuffers>=2.0 in c:\\users\\obouk\\anaconda3\\lib\\site-packages (from tensorflow-intel==2.12.1->tensorflow) (24.3.7)\n",
      "Requirement already satisfied: gast<=0.4.0,>=0.2.1 in c:\\users\\obouk\\anaconda3\\lib\\site-packages (from tensorflow-intel==2.12.1->tensorflow) (0.4.0)\n",
      "Requirement already satisfied: google-pasta>=0.1.1 in c:\\users\\obouk\\anaconda3\\lib\\site-packages (from tensorflow-intel==2.12.1->tensorflow) (0.2.0)\n",
      "Requirement already satisfied: h5py>=2.9.0 in c:\\users\\obouk\\anaconda3\\lib\\site-packages (from tensorflow-intel==2.12.1->tensorflow) (3.10.0)\n",
      "Requirement already satisfied: jax>=0.3.15 in c:\\users\\obouk\\anaconda3\\lib\\site-packages (from tensorflow-intel==2.12.1->tensorflow) (0.4.26)\n",
      "Requirement already satisfied: libclang>=13.0.0 in c:\\users\\obouk\\anaconda3\\lib\\site-packages (from tensorflow-intel==2.12.1->tensorflow) (18.1.1)\n",
      "Requirement already satisfied: numpy<=1.24.3,>=1.22 in c:\\users\\obouk\\anaconda3\\lib\\site-packages (from tensorflow-intel==2.12.1->tensorflow) (1.24.3)\n",
      "Requirement already satisfied: opt-einsum>=2.3.2 in c:\\users\\obouk\\anaconda3\\lib\\site-packages (from tensorflow-intel==2.12.1->tensorflow) (3.3.0)\n",
      "Requirement already satisfied: packaging in c:\\users\\obouk\\appdata\\roaming\\python\\python311\\site-packages (from tensorflow-intel==2.12.1->tensorflow) (23.2)\n",
      "Requirement already satisfied: protobuf!=4.21.0,!=4.21.1,!=4.21.2,!=4.21.3,!=4.21.4,!=4.21.5,<5.0.0dev,>=3.20.3 in c:\\users\\obouk\\anaconda3\\lib\\site-packages (from tensorflow-intel==2.12.1->tensorflow) (4.25.3)\n",
      "Requirement already satisfied: setuptools in c:\\users\\obouk\\anaconda3\\lib\\site-packages (from tensorflow-intel==2.12.1->tensorflow) (68.0.0)\n",
      "Requirement already satisfied: six>=1.12.0 in c:\\users\\obouk\\appdata\\roaming\\python\\python311\\site-packages (from tensorflow-intel==2.12.1->tensorflow) (1.16.0)\n",
      "Requirement already satisfied: termcolor>=1.1.0 in c:\\users\\obouk\\anaconda3\\lib\\site-packages (from tensorflow-intel==2.12.1->tensorflow) (2.4.0)\n",
      "Requirement already satisfied: typing-extensions<4.6.0,>=3.6.6 in c:\\users\\obouk\\anaconda3\\lib\\site-packages (from tensorflow-intel==2.12.1->tensorflow) (4.5.0)\n",
      "Requirement already satisfied: wrapt<1.15,>=1.11.0 in c:\\users\\obouk\\anaconda3\\lib\\site-packages (from tensorflow-intel==2.12.1->tensorflow) (1.14.1)\n",
      "Requirement already satisfied: grpcio<2.0,>=1.24.3 in c:\\users\\obouk\\anaconda3\\lib\\site-packages (from tensorflow-intel==2.12.1->tensorflow) (1.62.1)\n",
      "Requirement already satisfied: tensorboard<2.13,>=2.12 in c:\\users\\obouk\\anaconda3\\lib\\site-packages (from tensorflow-intel==2.12.1->tensorflow) (2.12.3)\n",
      "Requirement already satisfied: tensorflow-estimator<2.13,>=2.12.0 in c:\\users\\obouk\\anaconda3\\lib\\site-packages (from tensorflow-intel==2.12.1->tensorflow) (2.12.0)\n",
      "Requirement already satisfied: keras<2.13,>=2.12.0 in c:\\users\\obouk\\anaconda3\\lib\\site-packages (from tensorflow-intel==2.12.1->tensorflow) (2.12.0)\n",
      "Requirement already satisfied: tensorflow-io-gcs-filesystem>=0.23.1 in c:\\users\\obouk\\anaconda3\\lib\\site-packages (from tensorflow-intel==2.12.1->tensorflow) (0.31.0)\n",
      "Requirement already satisfied: wheel<1.0,>=0.23.0 in c:\\users\\obouk\\anaconda3\\lib\\site-packages (from astunparse>=1.6.0->tensorflow-intel==2.12.1->tensorflow) (0.38.4)\n",
      "Requirement already satisfied: ml-dtypes>=0.2.0 in c:\\users\\obouk\\anaconda3\\lib\\site-packages (from jax>=0.3.15->tensorflow-intel==2.12.1->tensorflow) (0.3.2)\n",
      "Requirement already satisfied: scipy>=1.9 in c:\\users\\obouk\\anaconda3\\lib\\site-packages (from jax>=0.3.15->tensorflow-intel==2.12.1->tensorflow) (1.11.1)\n",
      "Requirement already satisfied: google-auth<3,>=1.6.3 in c:\\users\\obouk\\anaconda3\\lib\\site-packages (from tensorboard<2.13,>=2.12->tensorflow-intel==2.12.1->tensorflow) (2.29.0)\n",
      "Requirement already satisfied: google-auth-oauthlib<1.1,>=0.5 in c:\\users\\obouk\\anaconda3\\lib\\site-packages (from tensorboard<2.13,>=2.12->tensorflow-intel==2.12.1->tensorflow) (1.0.0)\n",
      "Requirement already satisfied: markdown>=2.6.8 in c:\\users\\obouk\\anaconda3\\lib\\site-packages (from tensorboard<2.13,>=2.12->tensorflow-intel==2.12.1->tensorflow) (3.4.1)\n",
      "Requirement already satisfied: requests<3,>=2.21.0 in c:\\users\\obouk\\appdata\\roaming\\python\\python311\\site-packages (from tensorboard<2.13,>=2.12->tensorflow-intel==2.12.1->tensorflow) (2.31.0)\n",
      "Requirement already satisfied: tensorboard-data-server<0.8.0,>=0.7.0 in c:\\users\\obouk\\anaconda3\\lib\\site-packages (from tensorboard<2.13,>=2.12->tensorflow-intel==2.12.1->tensorflow) (0.7.2)\n",
      "Requirement already satisfied: werkzeug>=1.0.1 in c:\\users\\obouk\\anaconda3\\lib\\site-packages (from tensorboard<2.13,>=2.12->tensorflow-intel==2.12.1->tensorflow) (2.2.3)\n",
      "Requirement already satisfied: cachetools<6.0,>=2.0.0 in c:\\users\\obouk\\anaconda3\\lib\\site-packages (from google-auth<3,>=1.6.3->tensorboard<2.13,>=2.12->tensorflow-intel==2.12.1->tensorflow) (5.3.3)\n",
      "Requirement already satisfied: pyasn1-modules>=0.2.1 in c:\\users\\obouk\\anaconda3\\lib\\site-packages (from google-auth<3,>=1.6.3->tensorboard<2.13,>=2.12->tensorflow-intel==2.12.1->tensorflow) (0.2.8)\n",
      "Requirement already satisfied: rsa<5,>=3.1.4 in c:\\users\\obouk\\anaconda3\\lib\\site-packages (from google-auth<3,>=1.6.3->tensorboard<2.13,>=2.12->tensorflow-intel==2.12.1->tensorflow) (4.9)\n",
      "Requirement already satisfied: requests-oauthlib>=0.7.0 in c:\\users\\obouk\\anaconda3\\lib\\site-packages (from google-auth-oauthlib<1.1,>=0.5->tensorboard<2.13,>=2.12->tensorflow-intel==2.12.1->tensorflow) (2.0.0)\n",
      "Requirement already satisfied: charset-normalizer<4,>=2 in c:\\users\\obouk\\appdata\\roaming\\python\\python311\\site-packages (from requests<3,>=2.21.0->tensorboard<2.13,>=2.12->tensorflow-intel==2.12.1->tensorflow) (3.3.2)\n",
      "Requirement already satisfied: idna<4,>=2.5 in c:\\users\\obouk\\appdata\\roaming\\python\\python311\\site-packages (from requests<3,>=2.21.0->tensorboard<2.13,>=2.12->tensorflow-intel==2.12.1->tensorflow) (3.6)\n",
      "Requirement already satisfied: urllib3<3,>=1.21.1 in c:\\users\\obouk\\appdata\\roaming\\python\\python311\\site-packages (from requests<3,>=2.21.0->tensorboard<2.13,>=2.12->tensorflow-intel==2.12.1->tensorflow) (2.2.0)\n",
      "Requirement already satisfied: certifi>=2017.4.17 in c:\\users\\obouk\\appdata\\roaming\\python\\python311\\site-packages (from requests<3,>=2.21.0->tensorboard<2.13,>=2.12->tensorflow-intel==2.12.1->tensorflow) (2024.2.2)\n",
      "Requirement already satisfied: MarkupSafe>=2.1.1 in c:\\users\\obouk\\appdata\\roaming\\python\\python311\\site-packages (from werkzeug>=1.0.1->tensorboard<2.13,>=2.12->tensorflow-intel==2.12.1->tensorflow) (2.1.5)\n",
      "Requirement already satisfied: pyasn1<0.5.0,>=0.4.6 in c:\\users\\obouk\\anaconda3\\lib\\site-packages (from pyasn1-modules>=0.2.1->google-auth<3,>=1.6.3->tensorboard<2.13,>=2.12->tensorflow-intel==2.12.1->tensorflow) (0.4.8)\n",
      "Requirement already satisfied: oauthlib>=3.0.0 in c:\\users\\obouk\\anaconda3\\lib\\site-packages (from requests-oauthlib>=0.7.0->google-auth-oauthlib<1.1,>=0.5->tensorboard<2.13,>=2.12->tensorflow-intel==2.12.1->tensorflow) (3.2.2)\n",
      "Requirement already satisfied: scikit-image in c:\\users\\obouk\\anaconda3\\lib\\site-packages (0.20.0)\n",
      "Requirement already satisfied: numpy>=1.21.1 in c:\\users\\obouk\\anaconda3\\lib\\site-packages (from scikit-image) (1.24.3)\n",
      "Requirement already satisfied: scipy>=1.8 in c:\\users\\obouk\\anaconda3\\lib\\site-packages (from scikit-image) (1.11.1)\n",
      "Requirement already satisfied: networkx>=2.8 in c:\\users\\obouk\\anaconda3\\lib\\site-packages (from scikit-image) (3.1)\n",
      "Requirement already satisfied: pillow>=9.0.1 in c:\\users\\obouk\\anaconda3\\lib\\site-packages (from scikit-image) (10.2.0)\n",
      "Requirement already satisfied: imageio>=2.4.1 in c:\\users\\obouk\\anaconda3\\lib\\site-packages (from scikit-image) (2.26.0)\n",
      "Requirement already satisfied: tifffile>=2019.7.26 in c:\\users\\obouk\\anaconda3\\lib\\site-packages (from scikit-image) (2023.4.12)\n",
      "Requirement already satisfied: PyWavelets>=1.1.1 in c:\\users\\obouk\\anaconda3\\lib\\site-packages (from scikit-image) (1.4.1)\n",
      "Requirement already satisfied: packaging>=20.0 in c:\\users\\obouk\\appdata\\roaming\\python\\python311\\site-packages (from scikit-image) (23.2)\n",
      "Requirement already satisfied: lazy_loader>=0.1 in c:\\users\\obouk\\anaconda3\\lib\\site-packages (from scikit-image) (0.2)\n"
     ]
    },
    {
     "name": "stderr",
     "output_type": "stream",
     "text": [
      "ERROR: Could not find a version that satisfies the requirement scikit-learn-keras (from versions: none)\n",
      "ERROR: No matching distribution found for scikit-learn-keras\n"
     ]
    },
    {
     "name": "stdout",
     "output_type": "stream",
     "text": [
      "Requirement already satisfied: keras in c:\\users\\obouk\\anaconda3\\lib\\site-packages (2.12.0)\n",
      "Requirement already satisfied: scikeras[tensorflow] in c:\\users\\obouk\\anaconda3\\lib\\site-packages (0.12.0)\n",
      "Requirement already satisfied: packaging>=0.21 in c:\\users\\obouk\\appdata\\roaming\\python\\python311\\site-packages (from scikeras[tensorflow]) (23.2)\n",
      "Requirement already satisfied: scikit-learn>=1.0.0 in c:\\users\\obouk\\anaconda3\\lib\\site-packages (from scikeras[tensorflow]) (1.3.0)\n",
      "Requirement already satisfied: tensorflow<2.13.0,>=2.12.0 in c:\\users\\obouk\\anaconda3\\lib\\site-packages (from scikeras[tensorflow]) (2.12.1)\n",
      "Requirement already satisfied: tensorflow-io-gcs-filesystem<0.32,>=0.23.1 in c:\\users\\obouk\\anaconda3\\lib\\site-packages (from scikeras[tensorflow]) (0.31.0)\n",
      "Requirement already satisfied: numpy>=1.17.3 in c:\\users\\obouk\\anaconda3\\lib\\site-packages (from scikit-learn>=1.0.0->scikeras[tensorflow]) (1.24.3)\n",
      "Requirement already satisfied: scipy>=1.5.0 in c:\\users\\obouk\\anaconda3\\lib\\site-packages (from scikit-learn>=1.0.0->scikeras[tensorflow]) (1.11.1)\n",
      "Requirement already satisfied: joblib>=1.1.1 in c:\\users\\obouk\\anaconda3\\lib\\site-packages (from scikit-learn>=1.0.0->scikeras[tensorflow]) (1.2.0)\n",
      "Requirement already satisfied: threadpoolctl>=2.0.0 in c:\\users\\obouk\\anaconda3\\lib\\site-packages (from scikit-learn>=1.0.0->scikeras[tensorflow]) (2.2.0)\n",
      "Requirement already satisfied: tensorflow-intel==2.12.1 in c:\\users\\obouk\\anaconda3\\lib\\site-packages (from tensorflow<2.13.0,>=2.12.0->scikeras[tensorflow]) (2.12.1)\n",
      "Requirement already satisfied: absl-py>=1.0.0 in c:\\users\\obouk\\anaconda3\\lib\\site-packages (from tensorflow-intel==2.12.1->tensorflow<2.13.0,>=2.12.0->scikeras[tensorflow]) (2.1.0)\n",
      "Requirement already satisfied: astunparse>=1.6.0 in c:\\users\\obouk\\anaconda3\\lib\\site-packages (from tensorflow-intel==2.12.1->tensorflow<2.13.0,>=2.12.0->scikeras[tensorflow]) (1.6.3)\n",
      "Requirement already satisfied: flatbuffers>=2.0 in c:\\users\\obouk\\anaconda3\\lib\\site-packages (from tensorflow-intel==2.12.1->tensorflow<2.13.0,>=2.12.0->scikeras[tensorflow]) (24.3.7)\n",
      "Requirement already satisfied: gast<=0.4.0,>=0.2.1 in c:\\users\\obouk\\anaconda3\\lib\\site-packages (from tensorflow-intel==2.12.1->tensorflow<2.13.0,>=2.12.0->scikeras[tensorflow]) (0.4.0)\n",
      "Requirement already satisfied: google-pasta>=0.1.1 in c:\\users\\obouk\\anaconda3\\lib\\site-packages (from tensorflow-intel==2.12.1->tensorflow<2.13.0,>=2.12.0->scikeras[tensorflow]) (0.2.0)\n",
      "Requirement already satisfied: h5py>=2.9.0 in c:\\users\\obouk\\anaconda3\\lib\\site-packages (from tensorflow-intel==2.12.1->tensorflow<2.13.0,>=2.12.0->scikeras[tensorflow]) (3.10.0)\n",
      "Requirement already satisfied: jax>=0.3.15 in c:\\users\\obouk\\anaconda3\\lib\\site-packages (from tensorflow-intel==2.12.1->tensorflow<2.13.0,>=2.12.0->scikeras[tensorflow]) (0.4.26)\n",
      "Requirement already satisfied: libclang>=13.0.0 in c:\\users\\obouk\\anaconda3\\lib\\site-packages (from tensorflow-intel==2.12.1->tensorflow<2.13.0,>=2.12.0->scikeras[tensorflow]) (18.1.1)\n",
      "Requirement already satisfied: opt-einsum>=2.3.2 in c:\\users\\obouk\\anaconda3\\lib\\site-packages (from tensorflow-intel==2.12.1->tensorflow<2.13.0,>=2.12.0->scikeras[tensorflow]) (3.3.0)\n",
      "Requirement already satisfied: protobuf!=4.21.0,!=4.21.1,!=4.21.2,!=4.21.3,!=4.21.4,!=4.21.5,<5.0.0dev,>=3.20.3 in c:\\users\\obouk\\anaconda3\\lib\\site-packages (from tensorflow-intel==2.12.1->tensorflow<2.13.0,>=2.12.0->scikeras[tensorflow]) (4.25.3)\n",
      "Requirement already satisfied: setuptools in c:\\users\\obouk\\anaconda3\\lib\\site-packages (from tensorflow-intel==2.12.1->tensorflow<2.13.0,>=2.12.0->scikeras[tensorflow]) (68.0.0)\n",
      "Requirement already satisfied: six>=1.12.0 in c:\\users\\obouk\\appdata\\roaming\\python\\python311\\site-packages (from tensorflow-intel==2.12.1->tensorflow<2.13.0,>=2.12.0->scikeras[tensorflow]) (1.16.0)\n",
      "Requirement already satisfied: termcolor>=1.1.0 in c:\\users\\obouk\\anaconda3\\lib\\site-packages (from tensorflow-intel==2.12.1->tensorflow<2.13.0,>=2.12.0->scikeras[tensorflow]) (2.4.0)\n",
      "Requirement already satisfied: typing-extensions<4.6.0,>=3.6.6 in c:\\users\\obouk\\anaconda3\\lib\\site-packages (from tensorflow-intel==2.12.1->tensorflow<2.13.0,>=2.12.0->scikeras[tensorflow]) (4.5.0)\n",
      "Requirement already satisfied: wrapt<1.15,>=1.11.0 in c:\\users\\obouk\\anaconda3\\lib\\site-packages (from tensorflow-intel==2.12.1->tensorflow<2.13.0,>=2.12.0->scikeras[tensorflow]) (1.14.1)\n",
      "Requirement already satisfied: grpcio<2.0,>=1.24.3 in c:\\users\\obouk\\anaconda3\\lib\\site-packages (from tensorflow-intel==2.12.1->tensorflow<2.13.0,>=2.12.0->scikeras[tensorflow]) (1.62.1)\n",
      "Requirement already satisfied: tensorboard<2.13,>=2.12 in c:\\users\\obouk\\anaconda3\\lib\\site-packages (from tensorflow-intel==2.12.1->tensorflow<2.13.0,>=2.12.0->scikeras[tensorflow]) (2.12.3)\n",
      "Requirement already satisfied: tensorflow-estimator<2.13,>=2.12.0 in c:\\users\\obouk\\anaconda3\\lib\\site-packages (from tensorflow-intel==2.12.1->tensorflow<2.13.0,>=2.12.0->scikeras[tensorflow]) (2.12.0)\n",
      "Requirement already satisfied: keras<2.13,>=2.12.0 in c:\\users\\obouk\\anaconda3\\lib\\site-packages (from tensorflow-intel==2.12.1->tensorflow<2.13.0,>=2.12.0->scikeras[tensorflow]) (2.12.0)\n",
      "Requirement already satisfied: wheel<1.0,>=0.23.0 in c:\\users\\obouk\\anaconda3\\lib\\site-packages (from astunparse>=1.6.0->tensorflow-intel==2.12.1->tensorflow<2.13.0,>=2.12.0->scikeras[tensorflow]) (0.38.4)\n",
      "Requirement already satisfied: ml-dtypes>=0.2.0 in c:\\users\\obouk\\anaconda3\\lib\\site-packages (from jax>=0.3.15->tensorflow-intel==2.12.1->tensorflow<2.13.0,>=2.12.0->scikeras[tensorflow]) (0.3.2)\n",
      "Requirement already satisfied: google-auth<3,>=1.6.3 in c:\\users\\obouk\\anaconda3\\lib\\site-packages (from tensorboard<2.13,>=2.12->tensorflow-intel==2.12.1->tensorflow<2.13.0,>=2.12.0->scikeras[tensorflow]) (2.29.0)\n",
      "Requirement already satisfied: google-auth-oauthlib<1.1,>=0.5 in c:\\users\\obouk\\anaconda3\\lib\\site-packages (from tensorboard<2.13,>=2.12->tensorflow-intel==2.12.1->tensorflow<2.13.0,>=2.12.0->scikeras[tensorflow]) (1.0.0)\n",
      "Requirement already satisfied: markdown>=2.6.8 in c:\\users\\obouk\\anaconda3\\lib\\site-packages (from tensorboard<2.13,>=2.12->tensorflow-intel==2.12.1->tensorflow<2.13.0,>=2.12.0->scikeras[tensorflow]) (3.4.1)\n",
      "Requirement already satisfied: requests<3,>=2.21.0 in c:\\users\\obouk\\appdata\\roaming\\python\\python311\\site-packages (from tensorboard<2.13,>=2.12->tensorflow-intel==2.12.1->tensorflow<2.13.0,>=2.12.0->scikeras[tensorflow]) (2.31.0)\n",
      "Requirement already satisfied: tensorboard-data-server<0.8.0,>=0.7.0 in c:\\users\\obouk\\anaconda3\\lib\\site-packages (from tensorboard<2.13,>=2.12->tensorflow-intel==2.12.1->tensorflow<2.13.0,>=2.12.0->scikeras[tensorflow]) (0.7.2)\n",
      "Requirement already satisfied: werkzeug>=1.0.1 in c:\\users\\obouk\\anaconda3\\lib\\site-packages (from tensorboard<2.13,>=2.12->tensorflow-intel==2.12.1->tensorflow<2.13.0,>=2.12.0->scikeras[tensorflow]) (2.2.3)\n",
      "Requirement already satisfied: cachetools<6.0,>=2.0.0 in c:\\users\\obouk\\anaconda3\\lib\\site-packages (from google-auth<3,>=1.6.3->tensorboard<2.13,>=2.12->tensorflow-intel==2.12.1->tensorflow<2.13.0,>=2.12.0->scikeras[tensorflow]) (5.3.3)\n",
      "Requirement already satisfied: pyasn1-modules>=0.2.1 in c:\\users\\obouk\\anaconda3\\lib\\site-packages (from google-auth<3,>=1.6.3->tensorboard<2.13,>=2.12->tensorflow-intel==2.12.1->tensorflow<2.13.0,>=2.12.0->scikeras[tensorflow]) (0.2.8)\n",
      "Requirement already satisfied: rsa<5,>=3.1.4 in c:\\users\\obouk\\anaconda3\\lib\\site-packages (from google-auth<3,>=1.6.3->tensorboard<2.13,>=2.12->tensorflow-intel==2.12.1->tensorflow<2.13.0,>=2.12.0->scikeras[tensorflow]) (4.9)\n",
      "Requirement already satisfied: requests-oauthlib>=0.7.0 in c:\\users\\obouk\\anaconda3\\lib\\site-packages (from google-auth-oauthlib<1.1,>=0.5->tensorboard<2.13,>=2.12->tensorflow-intel==2.12.1->tensorflow<2.13.0,>=2.12.0->scikeras[tensorflow]) (2.0.0)\n",
      "Requirement already satisfied: charset-normalizer<4,>=2 in c:\\users\\obouk\\appdata\\roaming\\python\\python311\\site-packages (from requests<3,>=2.21.0->tensorboard<2.13,>=2.12->tensorflow-intel==2.12.1->tensorflow<2.13.0,>=2.12.0->scikeras[tensorflow]) (3.3.2)\n",
      "Requirement already satisfied: idna<4,>=2.5 in c:\\users\\obouk\\appdata\\roaming\\python\\python311\\site-packages (from requests<3,>=2.21.0->tensorboard<2.13,>=2.12->tensorflow-intel==2.12.1->tensorflow<2.13.0,>=2.12.0->scikeras[tensorflow]) (3.6)\n",
      "Requirement already satisfied: urllib3<3,>=1.21.1 in c:\\users\\obouk\\appdata\\roaming\\python\\python311\\site-packages (from requests<3,>=2.21.0->tensorboard<2.13,>=2.12->tensorflow-intel==2.12.1->tensorflow<2.13.0,>=2.12.0->scikeras[tensorflow]) (2.2.0)\n",
      "Requirement already satisfied: certifi>=2017.4.17 in c:\\users\\obouk\\appdata\\roaming\\python\\python311\\site-packages (from requests<3,>=2.21.0->tensorboard<2.13,>=2.12->tensorflow-intel==2.12.1->tensorflow<2.13.0,>=2.12.0->scikeras[tensorflow]) (2024.2.2)\n",
      "Requirement already satisfied: MarkupSafe>=2.1.1 in c:\\users\\obouk\\appdata\\roaming\\python\\python311\\site-packages (from werkzeug>=1.0.1->tensorboard<2.13,>=2.12->tensorflow-intel==2.12.1->tensorflow<2.13.0,>=2.12.0->scikeras[tensorflow]) (2.1.5)\n",
      "Requirement already satisfied: pyasn1<0.5.0,>=0.4.6 in c:\\users\\obouk\\anaconda3\\lib\\site-packages (from pyasn1-modules>=0.2.1->google-auth<3,>=1.6.3->tensorboard<2.13,>=2.12->tensorflow-intel==2.12.1->tensorflow<2.13.0,>=2.12.0->scikeras[tensorflow]) (0.4.8)\n",
      "Requirement already satisfied: oauthlib>=3.0.0 in c:\\users\\obouk\\anaconda3\\lib\\site-packages (from requests-oauthlib>=0.7.0->google-auth-oauthlib<1.1,>=0.5->tensorboard<2.13,>=2.12->tensorflow-intel==2.12.1->tensorflow<2.13.0,>=2.12.0->scikeras[tensorflow]) (3.2.2)\n",
      "Requirement already satisfied: scikeras[tensorflow-cpu] in c:\\users\\obouk\\anaconda3\\lib\\site-packages (0.12.0)\n",
      "Requirement already satisfied: packaging>=0.21 in c:\\users\\obouk\\appdata\\roaming\\python\\python311\\site-packages (from scikeras[tensorflow-cpu]) (23.2)\n",
      "Requirement already satisfied: scikit-learn>=1.0.0 in c:\\users\\obouk\\anaconda3\\lib\\site-packages (from scikeras[tensorflow-cpu]) (1.3.0)\n",
      "Requirement already satisfied: tensorflow-cpu<2.13.0,>=2.12.0 in c:\\users\\obouk\\anaconda3\\lib\\site-packages (from scikeras[tensorflow-cpu]) (2.12.1)\n",
      "Requirement already satisfied: tensorflow-io-gcs-filesystem<0.32,>=0.23.1 in c:\\users\\obouk\\anaconda3\\lib\\site-packages (from scikeras[tensorflow-cpu]) (0.31.0)\n",
      "Requirement already satisfied: numpy>=1.17.3 in c:\\users\\obouk\\anaconda3\\lib\\site-packages (from scikit-learn>=1.0.0->scikeras[tensorflow-cpu]) (1.24.3)\n",
      "Requirement already satisfied: scipy>=1.5.0 in c:\\users\\obouk\\anaconda3\\lib\\site-packages (from scikit-learn>=1.0.0->scikeras[tensorflow-cpu]) (1.11.1)\n",
      "Requirement already satisfied: joblib>=1.1.1 in c:\\users\\obouk\\anaconda3\\lib\\site-packages (from scikit-learn>=1.0.0->scikeras[tensorflow-cpu]) (1.2.0)\n",
      "Requirement already satisfied: threadpoolctl>=2.0.0 in c:\\users\\obouk\\anaconda3\\lib\\site-packages (from scikit-learn>=1.0.0->scikeras[tensorflow-cpu]) (2.2.0)\n",
      "Requirement already satisfied: tensorflow-intel==2.12.1 in c:\\users\\obouk\\anaconda3\\lib\\site-packages (from tensorflow-cpu<2.13.0,>=2.12.0->scikeras[tensorflow-cpu]) (2.12.1)\n",
      "Requirement already satisfied: absl-py>=1.0.0 in c:\\users\\obouk\\anaconda3\\lib\\site-packages (from tensorflow-intel==2.12.1->tensorflow-cpu<2.13.0,>=2.12.0->scikeras[tensorflow-cpu]) (2.1.0)\n",
      "Requirement already satisfied: astunparse>=1.6.0 in c:\\users\\obouk\\anaconda3\\lib\\site-packages (from tensorflow-intel==2.12.1->tensorflow-cpu<2.13.0,>=2.12.0->scikeras[tensorflow-cpu]) (1.6.3)\n",
      "Requirement already satisfied: flatbuffers>=2.0 in c:\\users\\obouk\\anaconda3\\lib\\site-packages (from tensorflow-intel==2.12.1->tensorflow-cpu<2.13.0,>=2.12.0->scikeras[tensorflow-cpu]) (24.3.7)\n",
      "Requirement already satisfied: gast<=0.4.0,>=0.2.1 in c:\\users\\obouk\\anaconda3\\lib\\site-packages (from tensorflow-intel==2.12.1->tensorflow-cpu<2.13.0,>=2.12.0->scikeras[tensorflow-cpu]) (0.4.0)\n",
      "Requirement already satisfied: google-pasta>=0.1.1 in c:\\users\\obouk\\anaconda3\\lib\\site-packages (from tensorflow-intel==2.12.1->tensorflow-cpu<2.13.0,>=2.12.0->scikeras[tensorflow-cpu]) (0.2.0)\n",
      "Requirement already satisfied: h5py>=2.9.0 in c:\\users\\obouk\\anaconda3\\lib\\site-packages (from tensorflow-intel==2.12.1->tensorflow-cpu<2.13.0,>=2.12.0->scikeras[tensorflow-cpu]) (3.10.0)\n",
      "Requirement already satisfied: jax>=0.3.15 in c:\\users\\obouk\\anaconda3\\lib\\site-packages (from tensorflow-intel==2.12.1->tensorflow-cpu<2.13.0,>=2.12.0->scikeras[tensorflow-cpu]) (0.4.26)\n",
      "Requirement already satisfied: libclang>=13.0.0 in c:\\users\\obouk\\anaconda3\\lib\\site-packages (from tensorflow-intel==2.12.1->tensorflow-cpu<2.13.0,>=2.12.0->scikeras[tensorflow-cpu]) (18.1.1)\n",
      "Requirement already satisfied: opt-einsum>=2.3.2 in c:\\users\\obouk\\anaconda3\\lib\\site-packages (from tensorflow-intel==2.12.1->tensorflow-cpu<2.13.0,>=2.12.0->scikeras[tensorflow-cpu]) (3.3.0)\n",
      "Requirement already satisfied: protobuf!=4.21.0,!=4.21.1,!=4.21.2,!=4.21.3,!=4.21.4,!=4.21.5,<5.0.0dev,>=3.20.3 in c:\\users\\obouk\\anaconda3\\lib\\site-packages (from tensorflow-intel==2.12.1->tensorflow-cpu<2.13.0,>=2.12.0->scikeras[tensorflow-cpu]) (4.25.3)\n",
      "Requirement already satisfied: setuptools in c:\\users\\obouk\\anaconda3\\lib\\site-packages (from tensorflow-intel==2.12.1->tensorflow-cpu<2.13.0,>=2.12.0->scikeras[tensorflow-cpu]) (68.0.0)\n",
      "Requirement already satisfied: six>=1.12.0 in c:\\users\\obouk\\appdata\\roaming\\python\\python311\\site-packages (from tensorflow-intel==2.12.1->tensorflow-cpu<2.13.0,>=2.12.0->scikeras[tensorflow-cpu]) (1.16.0)\n",
      "Requirement already satisfied: termcolor>=1.1.0 in c:\\users\\obouk\\anaconda3\\lib\\site-packages (from tensorflow-intel==2.12.1->tensorflow-cpu<2.13.0,>=2.12.0->scikeras[tensorflow-cpu]) (2.4.0)\n",
      "Requirement already satisfied: typing-extensions<4.6.0,>=3.6.6 in c:\\users\\obouk\\anaconda3\\lib\\site-packages (from tensorflow-intel==2.12.1->tensorflow-cpu<2.13.0,>=2.12.0->scikeras[tensorflow-cpu]) (4.5.0)\n",
      "Requirement already satisfied: wrapt<1.15,>=1.11.0 in c:\\users\\obouk\\anaconda3\\lib\\site-packages (from tensorflow-intel==2.12.1->tensorflow-cpu<2.13.0,>=2.12.0->scikeras[tensorflow-cpu]) (1.14.1)\n",
      "Requirement already satisfied: grpcio<2.0,>=1.24.3 in c:\\users\\obouk\\anaconda3\\lib\\site-packages (from tensorflow-intel==2.12.1->tensorflow-cpu<2.13.0,>=2.12.0->scikeras[tensorflow-cpu]) (1.62.1)\n",
      "Requirement already satisfied: tensorboard<2.13,>=2.12 in c:\\users\\obouk\\anaconda3\\lib\\site-packages (from tensorflow-intel==2.12.1->tensorflow-cpu<2.13.0,>=2.12.0->scikeras[tensorflow-cpu]) (2.12.3)\n",
      "Requirement already satisfied: tensorflow-estimator<2.13,>=2.12.0 in c:\\users\\obouk\\anaconda3\\lib\\site-packages (from tensorflow-intel==2.12.1->tensorflow-cpu<2.13.0,>=2.12.0->scikeras[tensorflow-cpu]) (2.12.0)\n",
      "Requirement already satisfied: keras<2.13,>=2.12.0 in c:\\users\\obouk\\anaconda3\\lib\\site-packages (from tensorflow-intel==2.12.1->tensorflow-cpu<2.13.0,>=2.12.0->scikeras[tensorflow-cpu]) (2.12.0)\n",
      "Requirement already satisfied: wheel<1.0,>=0.23.0 in c:\\users\\obouk\\anaconda3\\lib\\site-packages (from astunparse>=1.6.0->tensorflow-intel==2.12.1->tensorflow-cpu<2.13.0,>=2.12.0->scikeras[tensorflow-cpu]) (0.38.4)\n",
      "Requirement already satisfied: ml-dtypes>=0.2.0 in c:\\users\\obouk\\anaconda3\\lib\\site-packages (from jax>=0.3.15->tensorflow-intel==2.12.1->tensorflow-cpu<2.13.0,>=2.12.0->scikeras[tensorflow-cpu]) (0.3.2)\n",
      "Requirement already satisfied: google-auth<3,>=1.6.3 in c:\\users\\obouk\\anaconda3\\lib\\site-packages (from tensorboard<2.13,>=2.12->tensorflow-intel==2.12.1->tensorflow-cpu<2.13.0,>=2.12.0->scikeras[tensorflow-cpu]) (2.29.0)\n",
      "Requirement already satisfied: google-auth-oauthlib<1.1,>=0.5 in c:\\users\\obouk\\anaconda3\\lib\\site-packages (from tensorboard<2.13,>=2.12->tensorflow-intel==2.12.1->tensorflow-cpu<2.13.0,>=2.12.0->scikeras[tensorflow-cpu]) (1.0.0)\n",
      "Requirement already satisfied: markdown>=2.6.8 in c:\\users\\obouk\\anaconda3\\lib\\site-packages (from tensorboard<2.13,>=2.12->tensorflow-intel==2.12.1->tensorflow-cpu<2.13.0,>=2.12.0->scikeras[tensorflow-cpu]) (3.4.1)\n",
      "Requirement already satisfied: requests<3,>=2.21.0 in c:\\users\\obouk\\appdata\\roaming\\python\\python311\\site-packages (from tensorboard<2.13,>=2.12->tensorflow-intel==2.12.1->tensorflow-cpu<2.13.0,>=2.12.0->scikeras[tensorflow-cpu]) (2.31.0)\n",
      "Requirement already satisfied: tensorboard-data-server<0.8.0,>=0.7.0 in c:\\users\\obouk\\anaconda3\\lib\\site-packages (from tensorboard<2.13,>=2.12->tensorflow-intel==2.12.1->tensorflow-cpu<2.13.0,>=2.12.0->scikeras[tensorflow-cpu]) (0.7.2)\n",
      "Requirement already satisfied: werkzeug>=1.0.1 in c:\\users\\obouk\\anaconda3\\lib\\site-packages (from tensorboard<2.13,>=2.12->tensorflow-intel==2.12.1->tensorflow-cpu<2.13.0,>=2.12.0->scikeras[tensorflow-cpu]) (2.2.3)\n",
      "Requirement already satisfied: cachetools<6.0,>=2.0.0 in c:\\users\\obouk\\anaconda3\\lib\\site-packages (from google-auth<3,>=1.6.3->tensorboard<2.13,>=2.12->tensorflow-intel==2.12.1->tensorflow-cpu<2.13.0,>=2.12.0->scikeras[tensorflow-cpu]) (5.3.3)\n",
      "Requirement already satisfied: pyasn1-modules>=0.2.1 in c:\\users\\obouk\\anaconda3\\lib\\site-packages (from google-auth<3,>=1.6.3->tensorboard<2.13,>=2.12->tensorflow-intel==2.12.1->tensorflow-cpu<2.13.0,>=2.12.0->scikeras[tensorflow-cpu]) (0.2.8)\n",
      "Requirement already satisfied: rsa<5,>=3.1.4 in c:\\users\\obouk\\anaconda3\\lib\\site-packages (from google-auth<3,>=1.6.3->tensorboard<2.13,>=2.12->tensorflow-intel==2.12.1->tensorflow-cpu<2.13.0,>=2.12.0->scikeras[tensorflow-cpu]) (4.9)\n",
      "Requirement already satisfied: requests-oauthlib>=0.7.0 in c:\\users\\obouk\\anaconda3\\lib\\site-packages (from google-auth-oauthlib<1.1,>=0.5->tensorboard<2.13,>=2.12->tensorflow-intel==2.12.1->tensorflow-cpu<2.13.0,>=2.12.0->scikeras[tensorflow-cpu]) (2.0.0)\n",
      "Requirement already satisfied: charset-normalizer<4,>=2 in c:\\users\\obouk\\appdata\\roaming\\python\\python311\\site-packages (from requests<3,>=2.21.0->tensorboard<2.13,>=2.12->tensorflow-intel==2.12.1->tensorflow-cpu<2.13.0,>=2.12.0->scikeras[tensorflow-cpu]) (3.3.2)\n",
      "Requirement already satisfied: idna<4,>=2.5 in c:\\users\\obouk\\appdata\\roaming\\python\\python311\\site-packages (from requests<3,>=2.21.0->tensorboard<2.13,>=2.12->tensorflow-intel==2.12.1->tensorflow-cpu<2.13.0,>=2.12.0->scikeras[tensorflow-cpu]) (3.6)\n",
      "Requirement already satisfied: urllib3<3,>=1.21.1 in c:\\users\\obouk\\appdata\\roaming\\python\\python311\\site-packages (from requests<3,>=2.21.0->tensorboard<2.13,>=2.12->tensorflow-intel==2.12.1->tensorflow-cpu<2.13.0,>=2.12.0->scikeras[tensorflow-cpu]) (2.2.0)\n",
      "Requirement already satisfied: certifi>=2017.4.17 in c:\\users\\obouk\\appdata\\roaming\\python\\python311\\site-packages (from requests<3,>=2.21.0->tensorboard<2.13,>=2.12->tensorflow-intel==2.12.1->tensorflow-cpu<2.13.0,>=2.12.0->scikeras[tensorflow-cpu]) (2024.2.2)\n",
      "Requirement already satisfied: MarkupSafe>=2.1.1 in c:\\users\\obouk\\appdata\\roaming\\python\\python311\\site-packages (from werkzeug>=1.0.1->tensorboard<2.13,>=2.12->tensorflow-intel==2.12.1->tensorflow-cpu<2.13.0,>=2.12.0->scikeras[tensorflow-cpu]) (2.1.5)\n",
      "Requirement already satisfied: pyasn1<0.5.0,>=0.4.6 in c:\\users\\obouk\\anaconda3\\lib\\site-packages (from pyasn1-modules>=0.2.1->google-auth<3,>=1.6.3->tensorboard<2.13,>=2.12->tensorflow-intel==2.12.1->tensorflow-cpu<2.13.0,>=2.12.0->scikeras[tensorflow-cpu]) (0.4.8)\n",
      "Requirement already satisfied: oauthlib>=3.0.0 in c:\\users\\obouk\\anaconda3\\lib\\site-packages (from requests-oauthlib>=0.7.0->google-auth-oauthlib<1.1,>=0.5->tensorboard<2.13,>=2.12->tensorflow-intel==2.12.1->tensorflow-cpu<2.13.0,>=2.12.0->scikeras[tensorflow-cpu]) (3.2.2)\n"
     ]
    }
   ],
   "source": [
    "!pip install opencv-python\n",
    "!pip install tensorflow\n",
    "!pip install scikit-image\n",
    "!pip install -U scikit-learn-keras\n",
    "!pip install keras\n",
    "!pip install scikeras[tensorflow]\n",
    "!pip install scikeras[tensorflow-cpu]"
   ]
  },
  {
   "cell_type": "code",
   "execution_count": 88,
   "id": "567afdce-7a68-4e5d-be79-36674a728fe2",
   "metadata": {
    "id": "567afdce-7a68-4e5d-be79-36674a728fe2"
   },
   "outputs": [],
   "source": [
    "import os\n",
    "import numpy as np\n",
    "import pandas as pd\n",
    "import matplotlib.pyplot as plt\n",
    "import cv2\n",
    "from sklearn.model_selection import train_test_split, StratifiedKFold, cross_val_score\n",
    "import tensorflow as tf\n",
    "from tensorflow import keras\n",
    "from tensorflow.keras import datasets, layers, models, Sequential, optimizers\n",
    "from sklearn.metrics import classification_report,accuracy_score, precision_score, recall_score, f1_score\n",
    "from sklearn.svm import SVC\n",
    "from sklearn.ensemble import RandomForestClassifier\n",
    "import time\n",
    "from scikeras.wrappers import KerasClassifier\n",
    "from sklearn.metrics import confusion_matrix, ConfusionMatrixDisplay\n",
    "from keras.applications import ResNet50\n",
    "from tensorflow.keras import backend as K\n",
    "import seaborn as sns"
   ]
  },
  {
   "cell_type": "markdown",
   "id": "NE1PcqnUhdEL",
   "metadata": {
    "id": "NE1PcqnUhdEL"
   },
   "source": [
    "# **Task 1:**"
   ]
  },
  {
   "cell_type": "markdown",
   "id": "XJ87pDU4h4IE",
   "metadata": {
    "id": "XJ87pDU4h4IE"
   },
   "source": [
    "\n",
    "***The first challenge is to create a classifier capable of distinguishing between an abdominal ultrasound and a cardiac ultrasound. and use two classifiers (non-neural network and neural network) to perform a stratified 80/20 train/test classification. Calculating the precision, recall, and f1 scores for the two examined models.***\n",
    "\n",
    "---\n",
    "\n",
    "***1. Initially, we obtain and prepare the data for image classification.***\n"
   ]
  },
  {
   "cell_type": "code",
   "execution_count": 3,
   "id": "fd52f585-a11b-4bdc-a74a-0c7c9a98ec21",
   "metadata": {
    "id": "fd52f585-a11b-4bdc-a74a-0c7c9a98ec21"
   },
   "outputs": [],
   "source": [
    "#Reference 1: https://github.com/computervisioneng/image-classification-python-scikit-learn/blob/master/main.py\n",
    "#[Code reference 1]\n",
    "\n",
    "#Preparing Data#\n",
    "input_path = r'C:/Users/obouk/OneDrive/Bureau/Master RGU/Advanced Data Science_Python/CourseWork/Data_1'"
   ]
  },
  {
   "cell_type": "markdown",
   "id": "4AhRdpCDjYpu",
   "metadata": {
    "id": "4AhRdpCDjYpu"
   },
   "source": [
    " ***2. Targets are the label index 0 for heart and 1 for non-heart, and preprocess images (normalise pixel values to the range [0, 1]).***"
   ]
  },
  {
   "cell_type": "code",
   "execution_count": 4,
   "id": "80375542-d97f-471d-8265-e6ad06fd4a3b",
   "metadata": {
    "colab": {
     "base_uri": "https://localhost:8080/",
     "height": 228
    },
    "id": "80375542-d97f-471d-8265-e6ad06fd4a3b",
    "outputId": "13a77428-9a93-48b8-eca9-b30be485225a"
   },
   "outputs": [],
   "source": [
    "images= []\n",
    "targets = []\n",
    "for t_index, target in enumerate(os.listdir(input_path)):\n",
    "    path_join= os.path.join(input_path, target)\n",
    "    for img_name in os.listdir(path_join):\n",
    "        img_path = os.path.join(path_join, img_name)\n",
    "        img = cv2.imread(img_path, cv2.IMREAD_GRAYSCALE)\n",
    "        #this is not mondatory since we have all images with this size but just to be sure that all resized with the same measure\n",
    "        img = cv2.resize(img, (128,128))\n",
    "        img_bin = cv2.adaptiveThreshold(img, 255,cv2.ADAPTIVE_THRESH_MEAN_C, cv2.THRESH_BINARY_INV, 13, 2)\n",
    "        images.append(img_bin.flatten())\n",
    "        targets.append(t_index)\n",
    "\n",
    "images = np.asarray(images, dtype=\"object\").astype(np.float32)\n",
    "# targets is the label index 0 for heart and 1 for non-heart\n",
    "targets = np.asarray(targets, dtype=\"object\").astype(np.float32)\n",
    "# Preprocess images by scaling them (normalize pixel values to range [0, 1])\n",
    "images = images/ 255"
   ]
  },
  {
   "cell_type": "markdown",
   "id": "_JKrAGwHjvHO",
   "metadata": {
    "id": "_JKrAGwHjvHO"
   },
   "source": [
    "***3. Visualisation of Heart and Non-Heart data distribution proportions***"
   ]
  },
  {
   "cell_type": "code",
   "execution_count": 5,
   "id": "637dacb1-65ad-4a5c-a623-39e5de4fac74",
   "metadata": {
    "id": "637dacb1-65ad-4a5c-a623-39e5de4fac74"
   },
   "outputs": [
    {
     "data": {
      "image/png": "[encoded data removed]",
      "text/plain": [
       "<Figure size 640x480 with 1 Axes>"
      ]
     },
     "metadata": {},
     "output_type": "display_data"
    }
   ],
   "source": [
    "#Reference 8: https://github.com/carlosfmorenog/CMM536_CW_2022/blob/main/CMM536_CWP1%26partofP2_ModelSolution.ipynb\n",
    "#[Code reference 8]\n",
    "\n",
    "class_dist_original = pd.Series(targets).value_counts()\n",
    "# Plot BarChart for each class distribution\n",
    "bars = plt.bar(class_dist_original.index, class_dist_original.values, color=['red', 'green'])\n",
    "plt.title('Class Distribution')\n",
    "plt.xlabel('Class')\n",
    "plt.ylabel('Number of images')\n",
    "plt.xticks(range(len(class_dist_original.index)), ['Heart', 'Non-Heart'])\n",
    "for bar, value in zip(bars, class_dist_original.values):\n",
    "    plt.text(bar.get_x() + bar.get_width()/2, value, str(value), ha='center', va='bottom')\n",
    "plt.show()"
   ]
  },
  {
   "cell_type": "markdown",
   "id": "EZQJjf5Tj_vM",
   "metadata": {
    "id": "EZQJjf5Tj_vM"
   },
   "source": [
    "***4. Split the dataset into training and testing sets (Stratified split).***"
   ]
  },
  {
   "cell_type": "code",
   "execution_count": 6,
   "id": "5b9c4548-d98b-45b8-a790-11865184eee2",
   "metadata": {
    "id": "5b9c4548-d98b-45b8-a790-11865184eee2"
   },
   "outputs": [],
   "source": [
    "x_train, x_test, y_train, y_test = train_test_split(images, targets, test_size=0.2, shuffle=True, stratify=targets)"
   ]
  },
  {
   "cell_type": "markdown",
   "id": "1MHv9xUJkNUU",
   "metadata": {
    "id": "1MHv9xUJkNUU"
   },
   "source": [
    "***5.1. Dataset Classification with a Non-Neural Network, for this part, we have chosen Random Forest Classifier.***"
   ]
  },
  {
   "cell_type": "code",
   "execution_count": 7,
   "id": "fde65c49-0bfe-496e-949b-aa7cc2a3ccf0",
   "metadata": {
    "id": "fde65c49-0bfe-496e-949b-aa7cc2a3ccf0"
   },
   "outputs": [],
   "source": [
    "#Reference 2: https://stackoverflow.com/questions/1557571/how-do-i-get-time-of-a-python-programs-execution\n",
    "#[Code Reference 2]\n",
    "\n",
    "# Train a random forest classifier\n",
    "start_time = time.time()\n",
    "rf = RandomForestClassifier(n_estimators = 3)\n",
    "rf.fit(x_train, y_train)\n",
    "end_time = time.time()"
   ]
  },
  {
   "cell_type": "markdown",
   "id": "5-A4FlAqkdD2",
   "metadata": {
    "id": "5-A4FlAqkdD2"
   },
   "source": [
    "***5.2. Display time estimation for RF training execution and compare it later with a neural network model.***"
   ]
  },
  {
   "cell_type": "code",
   "execution_count": 8,
   "id": "cf72dcea-6a0c-41f0-9021-4485e9661da9",
   "metadata": {
    "id": "cf72dcea-6a0c-41f0-9021-4485e9661da9",
    "outputId": "60276328-72b0-4387-eecc-446533ba36bb"
   },
   "outputs": [
    {
     "name": "stdout",
     "output_type": "stream",
     "text": [
      "Execution time: 0.028633 seconds\n"
     ]
    }
   ],
   "source": [
    "# Get time needed to classify images with RF model\n",
    "execution_time = end_time - start_time\n",
    "print(f'Execution time: {execution_time:.6f} seconds')"
   ]
  },
  {
   "cell_type": "code",
   "execution_count": 9,
   "id": "e4bf0225-8fc8-48b0-a8be-414092352b6b",
   "metadata": {
    "id": "e4bf0225-8fc8-48b0-a8be-414092352b6b",
    "outputId": "9c91fb71-3cb2-4595-d8d9-b99657688398"
   },
   "outputs": [
    {
     "data": {
      "text/plain": [
       "1.0"
      ]
     },
     "execution_count": 9,
     "metadata": {},
     "output_type": "execute_result"
    }
   ],
   "source": [
    "y_pred_rf = rf.predict(x_test)\n",
    "rf.score(x_test,y_test)"
   ]
  },
  {
   "cell_type": "markdown",
   "id": "75f6263b-ea1d-449f-ac11-f20d2c9b7835",
   "metadata": {
    "id": "75f6263b-ea1d-449f-ac11-f20d2c9b7835"
   },
   "source": [
    "***5.3. Confusion Matrix Realisation for RF Model:***\n",
    "\n",
    "---\n",
    "\n",
    "\n",
    "***We consider that labels are : 0 for  HEART &  1 for NON_HEART images***"
   ]
  },
  {
   "cell_type": "code",
   "execution_count": 10,
   "id": "24e65f54-3711-4de9-9e7f-9e241c7a58ef",
   "metadata": {
    "colab": {
     "base_uri": "https://localhost:8080/",
     "height": 193
    },
    "id": "24e65f54-3711-4de9-9e7f-9e241c7a58ef",
    "outputId": "d64f6b71-0c89-4b9e-964b-2ff92a103dab"
   },
   "outputs": [
    {
     "name": "stdout",
     "output_type": "stream",
     "text": [
      "[[ 44   0]\n",
      " [  0 185]]\n"
     ]
    }
   ],
   "source": [
    "#Reference 3: <https://www.youtube.com/watch?v=jTCkpB7vjRA>\n",
    "#Kunaal Naik | Data Science Masterminds\n",
    "#[Code Reference 3]\n",
    "\n",
    "cm_rf= confusion_matrix(y_test, y_pred_rf,labels=rf.classes_)\n",
    "print(cm_rf)"
   ]
  },
  {
   "cell_type": "code",
   "execution_count": 11,
   "id": "df00b5e9-2af4-4555-8fc5-d3d6cfd3ff50",
   "metadata": {
    "id": "df00b5e9-2af4-4555-8fc5-d3d6cfd3ff50",
    "outputId": "29f6041b-e0a5-4da1-d2a7-ead9c9ea6de9"
   },
   "outputs": [
    {
     "data": {
      "text/plain": [
       "Text(0.5, 1.0, 'Confusion matrix for RF model')"
      ]
     },
     "execution_count": 11,
     "metadata": {},
     "output_type": "execute_result"
    },
    {
     "data": {
      "image/png": "[encoded data removed]",
      "text/plain": [
       "<Figure size 640x480 with 2 Axes>"
      ]
     },
     "metadata": {},
     "output_type": "display_data"
    }
   ],
   "source": [
    "cm_rf_display= ConfusionMatrixDisplay(confusion_matrix=cm_rf, display_labels = ['Heart', 'Non_Heart'])\n",
    "cm_rf_display.plot()\n",
    "plt.title('Confusion matrix for RF model')"
   ]
  },
  {
   "cell_type": "markdown",
   "id": "92b4b9cb-f6d1-46b3-a252-563661549f80",
   "metadata": {
    "id": "92b4b9cb-f6d1-46b3-a252-563661549f80"
   },
   "source": [
    "***Conclusion of RF Confusion Matrix:***\n",
    "\n",
    "---\n",
    "\n",
    "\n",
    "\n",
    "***The confusion matrix shows that the Random Forest classifier correctly identified 44 samples as 'Heart' and 185 samples as 'non_heart'. with null False Negative and False Positive. This leads to the conclusion that this classifier is 100% accurate for both classes during this particular test.***"
   ]
  },
  {
   "cell_type": "markdown",
   "id": "02CB4RgBmjV4",
   "metadata": {
    "id": "02CB4RgBmjV4"
   },
   "source": [
    "***5.4. Classification report for RF model:***"
   ]
  },
  {
   "cell_type": "code",
   "execution_count": 12,
   "id": "0386f178-5882-4380-b8f4-4e997199e6bc",
   "metadata": {
    "id": "0386f178-5882-4380-b8f4-4e997199e6bc",
    "outputId": "0d1879b6-d42a-4f09-c703-c9864e912d3d"
   },
   "outputs": [
    {
     "name": "stdout",
     "output_type": "stream",
     "text": [
      "\n",
      "Random Forest Classification Report:\n",
      "              precision    recall  f1-score   support\n",
      "\n",
      "         0.0       1.00      1.00      1.00        44\n",
      "         1.0       1.00      1.00      1.00       185\n",
      "\n",
      "    accuracy                           1.00       229\n",
      "   macro avg       1.00      1.00      1.00       229\n",
      "weighted avg       1.00      1.00      1.00       229\n",
      "\n"
     ]
    }
   ],
   "source": [
    "#Reference 4: https://github.com/codebasics/deep-learning-keras-tf-tutorial/blob/master/12_precision_recall/12_precision_recall.ipynb\n",
    "#[Code Reference 4]\n",
    "\n",
    "# Print the classification report for each classifier\n",
    "print('\\nRandom Forest Classification Report:')\n",
    "print(classification_report(y_test, y_pred_rf))"
   ]
  },
  {
   "cell_type": "markdown",
   "id": "6790c120-7255-4cc4-979f-1b3e13acec1d",
   "metadata": {
    "id": "6790c120-7255-4cc4-979f-1b3e13acec1d"
   },
   "source": [
    "***Random Forest Classification Report Insights:***\n",
    "\n",
    "---\n",
    "\n",
    "\n",
    "***From the Random Forest Classification Report. We corroborate our previous confusion matrix results, which showed that this model performed extraordinarily well, with an overall accuracy of 1.0 and perfect precision, recall, and F1-score scores for both classes. Later, we'll perform K folds stratified validation to determine whether the classifier's performance is consistent and actually correct across multiple dataset test variants.***"
   ]
  },
  {
   "cell_type": "markdown",
   "id": "trfPFjA_nOu9",
   "metadata": {
    "id": "trfPFjA_nOu9"
   },
   "source": [
    "***6.1. Datasets Classification with neural network model Convolutional neural network 'CNN':***"
   ]
  },
  {
   "cell_type": "code",
   "execution_count": 13,
   "id": "438e206f-3ef2-41a0-bd7a-251b829e576b",
   "metadata": {
    "id": "438e206f-3ef2-41a0-bd7a-251b829e576b",
    "scrolled": true
   },
   "outputs": [],
   "source": [
    "#Reference 5: https://github.com/codebasics/deep-learning-keras-tf-tutorial/blob/master/16_cnn_cifar10_small_image_classification/cnn_cifar10_dataset.ipynb\n",
    "#[Code reference]\n",
    "\n",
    "def cnn_model():\n",
    "    cnn = models.Sequential([\n",
    "        layers.Input(shape=(128, 128, 1)),\n",
    "        layers.Conv2D(filters= 2, kernel_size=(3, 3), activation='relu'),\n",
    "        layers.MaxPooling2D((2, 2)),\n",
    "\n",
    "        layers.Flatten(),\n",
    "        layers.Dense(64, activation='relu'),\n",
    "        layers.Dense(2, activation='softmax')\n",
    "    ])\n",
    "    cnn.compile(optimizer='adam',\n",
    "              loss='sparse_categorical_crossentropy',\n",
    "              metrics=['accuracy'])\n",
    "    return cnn"
   ]
  },
  {
   "cell_type": "code",
   "execution_count": 14,
   "id": "750df7bc-cedd-478e-b2dd-c7ae0123cbeb",
   "metadata": {
    "id": "750df7bc-cedd-478e-b2dd-c7ae0123cbeb"
   },
   "outputs": [],
   "source": [
    "cnn = cnn_model()"
   ]
  },
  {
   "cell_type": "code",
   "execution_count": 15,
   "id": "c05516c7-dc90-41a9-8f26-6a262658e97a",
   "metadata": {
    "id": "c05516c7-dc90-41a9-8f26-6a262658e97a"
   },
   "outputs": [],
   "source": [
    "x_train_cnn = x_train.reshape(-1, 128, 128, 1)\n",
    "x_test_cnn = x_test.reshape(-1, 128, 128, 1)\n"
   ]
  },
  {
   "cell_type": "markdown",
   "id": "JWNA9JB0n3Qr",
   "metadata": {
    "id": "JWNA9JB0n3Qr"
   },
   "source": [
    "***6.2. Display time estimation for CNN model training:***"
   ]
  },
  {
   "cell_type": "code",
   "execution_count": 16,
   "id": "9157edcd-d1d4-459f-8254-8a24f3c4b0d5",
   "metadata": {
    "id": "9157edcd-d1d4-459f-8254-8a24f3c4b0d5",
    "outputId": "19ba3d24-f031-4f3f-caf3-2a9e0d2449e9",
    "scrolled": true
   },
   "outputs": [
    {
     "name": "stdout",
     "output_type": "stream",
     "text": [
      "Epoch 1/8\n",
      "29/29 [==============================] - 2s 37ms/step - loss: 0.0466 - accuracy: 0.9880 - val_loss: 1.4034e-06 - val_accuracy: 1.0000\n",
      "Epoch 2/8\n",
      "29/29 [==============================] - 1s 33ms/step - loss: 7.8073e-07 - accuracy: 1.0000 - val_loss: 4.6330e-07 - val_accuracy: 1.0000\n",
      "Epoch 3/8\n",
      "29/29 [==============================] - 1s 33ms/step - loss: 4.0041e-07 - accuracy: 1.0000 - val_loss: 3.3837e-07 - val_accuracy: 1.0000\n",
      "Epoch 4/8\n",
      "29/29 [==============================] - 1s 33ms/step - loss: 3.1341e-07 - accuracy: 1.0000 - val_loss: 2.8006e-07 - val_accuracy: 1.0000\n",
      "Epoch 5/8\n",
      "29/29 [==============================] - 1s 33ms/step - loss: 2.6437e-07 - accuracy: 1.0000 - val_loss: 2.3998e-07 - val_accuracy: 1.0000\n",
      "Epoch 6/8\n",
      "29/29 [==============================] - 1s 33ms/step - loss: 2.2929e-07 - accuracy: 1.0000 - val_loss: 2.1343e-07 - val_accuracy: 1.0000\n",
      "Epoch 7/8\n",
      "29/29 [==============================] - 1s 34ms/step - loss: 2.0320e-07 - accuracy: 1.0000 - val_loss: 1.9521e-07 - val_accuracy: 1.0000\n",
      "Epoch 8/8\n",
      "29/29 [==============================] - 1s 35ms/step - loss: 1.8116e-07 - accuracy: 1.0000 - val_loss: 1.7439e-07 - val_accuracy: 1.0000\n",
      "Execution time: 8.615292 seconds\n"
     ]
    }
   ],
   "source": [
    "#[Code reference 2]\n",
    "\n",
    "start_time = time.time()\n",
    "cnn.fit(x_train_cnn, y_train, epochs= 8, validation_data=(x_test_cnn, y_test))\n",
    "end_time = time.time()\n",
    "execution_time = end_time - start_time\n",
    "print(f'Execution time: {execution_time:.6f} seconds')"
   ]
  },
  {
   "cell_type": "code",
   "execution_count": 17,
   "id": "378db17d-75d9-4409-81cc-d745d122c25a",
   "metadata": {
    "id": "378db17d-75d9-4409-81cc-d745d122c25a",
    "outputId": "0d4d941d-734f-409f-fc89-85a27fcaf4ea"
   },
   "outputs": [
    {
     "name": "stdout",
     "output_type": "stream",
     "text": [
      "8/8 [==============================] - 0s 8ms/step\n"
     ]
    }
   ],
   "source": [
    "y_pred_cnn = cnn.predict(x_test_cnn)"
   ]
  },
  {
   "cell_type": "code",
   "execution_count": 18,
   "id": "eaf6fa1d-de15-4872-a4b8-28bbfdb1b619",
   "metadata": {
    "id": "eaf6fa1d-de15-4872-a4b8-28bbfdb1b619"
   },
   "outputs": [],
   "source": [
    "# Convert probabilities to class labels\n",
    "y_pred_cnn_labels = np.argmax(y_pred_cnn, axis=1)"
   ]
  },
  {
   "cell_type": "markdown",
   "id": "977d859e-e854-4405-aac2-4c547b453497",
   "metadata": {
    "id": "977d859e-e854-4405-aac2-4c547b453497"
   },
   "source": [
    "***6.3.  Confusion Matrix realisation for CNN Model:***"
   ]
  },
  {
   "cell_type": "code",
   "execution_count": 19,
   "id": "eacf2fd4-8602-4459-abbf-58dcd42f3b46",
   "metadata": {
    "id": "eacf2fd4-8602-4459-abbf-58dcd42f3b46",
    "outputId": "4068ea5c-212e-4e3e-ffe9-b060c74f201a"
   },
   "outputs": [
    {
     "data": {
      "text/plain": [
       "Text(0.5, 1.0, 'Confusion matrix for CNN model')"
      ]
     },
     "execution_count": 19,
     "metadata": {},
     "output_type": "execute_result"
    },
    {
     "data": {
      "image/png": "[encoded data removed]",
      "text/plain": [
       "<Figure size 640x480 with 2 Axes>"
      ]
     },
     "metadata": {},
     "output_type": "display_data"
    }
   ],
   "source": [
    "#[Code Reference 3]\n",
    "cm_cnn = confusion_matrix(y_test, y_pred_cnn_labels)\n",
    "# Plot the confusion matrix\n",
    "cm_cnn_display= ConfusionMatrixDisplay(confusion_matrix=cm_cnn, display_labels = ['Heart', 'Non_Heart'])\n",
    "cm_cnn_display.plot()\n",
    "plt.title('Confusion matrix for CNN model')"
   ]
  },
  {
   "cell_type": "markdown",
   "id": "f4a97b64-a26a-483d-87d8-7f59b65955a2",
   "metadata": {
    "id": "f4a97b64-a26a-483d-87d8-7f59b65955a2"
   },
   "source": [
    "***Observation of the Confusion Matrix for CNN model***\n",
    "\n",
    "---\n",
    "\n",
    "\n",
    "***After visualising the CNN model's confusion matrix. This provides useful information and yields the same result as the RF model. We can conclude that the CNN model obtained flawless classification with 100% precision.***\n"
   ]
  },
  {
   "cell_type": "markdown",
   "id": "5SFm7-8boNFI",
   "metadata": {
    "id": "5SFm7-8boNFI"
   },
   "source": [
    "***6.4. Classification report result for CNN model:***"
   ]
  },
  {
   "cell_type": "code",
   "execution_count": 20,
   "id": "411a2a7d-2379-4aa8-8f72-60b631ce9b13",
   "metadata": {
    "id": "411a2a7d-2379-4aa8-8f72-60b631ce9b13",
    "outputId": "9865b0b9-290e-4233-f4b7-37394f498623"
   },
   "outputs": [
    {
     "name": "stdout",
     "output_type": "stream",
     "text": [
      "\n",
      "CNN Classification Report:\n",
      "              precision    recall  f1-score   support\n",
      "\n",
      "         0.0       1.00      1.00      1.00        44\n",
      "         1.0       1.00      1.00      1.00       185\n",
      "\n",
      "    accuracy                           1.00       229\n",
      "   macro avg       1.00      1.00      1.00       229\n",
      "weighted avg       1.00      1.00      1.00       229\n",
      "\n"
     ]
    }
   ],
   "source": [
    "#[Code Reference 4]\n",
    "\n",
    "print('\\nCNN Classification Report:')\n",
    "print(classification_report(y_test, y_pred_cnn_labels))\n",
    "##print(classification_report(y_test, y_pred_cnn))"
   ]
  },
  {
   "cell_type": "markdown",
   "id": "f27562e9-66eb-4d16-9ff6-8679649db062",
   "metadata": {
    "id": "f27562e9-66eb-4d16-9ff6-8679649db062"
   },
   "source": [
    "***Conclusion***\n",
    "\n",
    "---\n",
    "***The report confirms that the CNN model performed flawlessly and validates the previous confusion matrix result. Precision, recall, and F1-score all equaled one for both courses, and overall accuracy was one. As previously said, we need to run K folds stratified on this model to ensure that the performance remains high even if the datasets of Train_Test_splits vary.***"
   ]
  },
  {
   "cell_type": "markdown",
   "id": "64848d09-9cc4-4d10-b7ad-9e562073ac5d",
   "metadata": {
    "id": "64848d09-9cc4-4d10-b7ad-9e562073ac5d"
   },
   "source": [
    "***7. K fold Cross-validation:***\n",
    "\n",
    "---\n",
    "***We will apply k-fold cross-validation on both models to confirm their performance and avoid any forms of overfitting.***\n"
   ]
  },
  {
   "cell_type": "code",
   "execution_count": 21,
   "id": "46a245f0-943f-493d-9758-d465f2c052eb",
   "metadata": {
    "id": "46a245f0-943f-493d-9758-d465f2c052eb"
   },
   "outputs": [],
   "source": [
    "skf = StratifiedKFold(n_splits=5, shuffle=True)"
   ]
  },
  {
   "cell_type": "code",
   "execution_count": 22,
   "id": "7ad8b823-a983-426b-81e9-4ca2027aacce",
   "metadata": {
    "id": "7ad8b823-a983-426b-81e9-4ca2027aacce",
    "outputId": "96560a69-4d69-437e-f081-ffceebb3421f"
   },
   "outputs": [],
   "source": [
    "#Reference 6: https://stackoverflow.com/questions/59743430/tensorflow-how-to-get-the-accuracy-of-the-prediction-function-result\n",
    "#[Code reference 6]\n",
    "\n",
    "cnn.save('model.h5')"
   ]
  },
  {
   "cell_type": "markdown",
   "id": "ad7a9a2e-7fa1-4f19-b853-ffe648192ffb",
   "metadata": {
    "id": "ad7a9a2e-7fa1-4f19-b853-ffe648192ffb"
   },
   "source": [
    "***7.1. 5k Fold Stratified for CNN model:***"
   ]
  },
  {
   "cell_type": "code",
   "execution_count": 23,
   "id": "9196e3ef-fb20-49f2-aa93-4f039ccf4b1d",
   "metadata": {
    "id": "9196e3ef-fb20-49f2-aa93-4f039ccf4b1d"
   },
   "outputs": [],
   "source": [
    "def load_cnn_model():\n",
    "    return models.load_model('model.h5')"
   ]
  },
  {
   "cell_type": "code",
   "execution_count": 24,
   "id": "8363b499-16db-4f4d-a09c-c462da3db650",
   "metadata": {
    "id": "8363b499-16db-4f4d-a09c-c462da3db650"
   },
   "outputs": [],
   "source": [
    "kc = KerasClassifier(build_fn=load_cnn_model, epochs=2, batch_size=32, verbose=0)"
   ]
  },
  {
   "cell_type": "code",
   "execution_count": 25,
   "id": "5b2987a0-04d0-408f-b050-9ab8daba704c",
   "metadata": {
    "id": "5b2987a0-04d0-408f-b050-9ab8daba704c"
   },
   "outputs": [],
   "source": [
    "# Below Code is troubleshoot on ChatGPT with the code modified from below reference:\n",
    "#https://github.com/codebasics/py/blob/master/ML/12_KFold_Cross_Validation/12_k_fold.ipynb\n",
    "\n",
    "scores = []\n",
    "for train_index, val_index in skf.split(x_train, y_train):\n",
    "    x_train_fold, x_val_fold = x_train[train_index], x_train[val_index]\n",
    "    y_train_fold, y_val_fold = y_train[train_index], y_train[val_index]\n",
    "    x_train_fold = x_train_fold.reshape(-1, 128, 128, 1)\n",
    "    x_val_fold = x_val_fold.reshape(-1, 128, 128, 1)\n",
    "    cnn.fit(x_train_fold, y_train_fold, epochs=2, verbose=0)\n",
    "    _, accuracy = cnn.evaluate(x_val_fold, y_val_fold, verbose=0)\n",
    "    scores.append(accuracy)"
   ]
  },
  {
   "cell_type": "code",
   "execution_count": 26,
   "id": "c4e3dcae-92dc-4fe0-9fcf-7fa8c48cd133",
   "metadata": {
    "id": "c4e3dcae-92dc-4fe0-9fcf-7fa8c48cd133"
   },
   "outputs": [],
   "source": [
    "mean_score = np.mean(scores)\n",
    "std_score = np.std(scores)"
   ]
  },
  {
   "cell_type": "code",
   "execution_count": 27,
   "id": "34f0686a-ae24-4160-96c6-0688a8665185",
   "metadata": {
    "id": "34f0686a-ae24-4160-96c6-0688a8665185",
    "outputId": "ef51fd95-9f9b-4a5a-a447-93f05688c1d8"
   },
   "outputs": [
    {
     "name": "stdout",
     "output_type": "stream",
     "text": [
      "\n",
      "5k Fold Stratified result for CNN model:\n",
      "[1.0, 1.0, 1.0, 1.0, 1.0]\n",
      "Mean validation accuracy: 1.0000\n",
      "Standard deviation of validation accuracy: 0.0000\n"
     ]
    }
   ],
   "source": [
    "print('\\n5k Fold Stratified result for CNN model:')\n",
    "print(scores)\n",
    "print(f'Mean validation accuracy: {mean_score:.4f}')\n",
    "print(f'Standard deviation of validation accuracy: {std_score:.4f}')"
   ]
  },
  {
   "cell_type": "markdown",
   "id": "21863ada-98ac-46b6-8c5e-bfeaa0902046",
   "metadata": {
    "id": "21863ada-98ac-46b6-8c5e-bfeaa0902046"
   },
   "source": [
    "***7.2. 5k Fold Stratified for RF model:***"
   ]
  },
  {
   "cell_type": "code",
   "execution_count": 28,
   "id": "e2c86e9a-b38e-4ca3-be4b-71cafc23d33a",
   "metadata": {
    "id": "e2c86e9a-b38e-4ca3-be4b-71cafc23d33a"
   },
   "outputs": [],
   "source": [
    "#Reference 7: https://github.com/codebasics/py/blob/master/ML/12_KFold_Cross_Validation/12_k_fold.ipynb\n",
    "rf_scores = cross_val_score(rf, images, targets, cv=5)"
   ]
  },
  {
   "cell_type": "code",
   "execution_count": 29,
   "id": "b4fc9e14-e905-4466-aeb9-acf30a4294ba",
   "metadata": {
    "id": "b4fc9e14-e905-4466-aeb9-acf30a4294ba",
    "outputId": "0b236984-001f-44a9-e28b-6c1e413db14e"
   },
   "outputs": [
    {
     "name": "stdout",
     "output_type": "stream",
     "text": [
      "\n",
      "5k Fold Stratified result for RF model:\n",
      "Scores: [1. 1. 1. 1. 1.]\n",
      "Mean score: 1.0\n"
     ]
    }
   ],
   "source": [
    "print('\\n5k Fold Stratified result for RF model:')\n",
    "print(\"Scores:\", rf_scores)\n",
    "print(\"Mean score:\", np.mean(rf_scores))"
   ]
  },
  {
   "cell_type": "markdown",
   "id": "74ecc4d2-c1ad-4516-895a-f9f61d6a69ec",
   "metadata": {
    "id": "74ecc4d2-c1ad-4516-895a-f9f61d6a69ec"
   },
   "source": [
    "***General Conclusion for task 1***\n",
    "\n",
    "---\n",
    "\n",
    "\n",
    "***According to prior results, in 5-fold stratified cross-validation, both the CNN and RF models achieved immaculate accuracy across all folds. Also, we have established that RF is faster(Execution time: 0.028 sc) than the CNN model(Execution time: 8.61 sc) and requires fewer computational resources during this dataset classification, and the accuracy provided is ideal for image processing; however, CNN can better peak up and detect patterns and images to make sense of them, especially for larger datasets, even if it is not our case but it is expected to rise in the future in task 3 with data augmentation. Furthermore, the next assignment will require a profound understanding and precision to distinguish between open and closed hearts, which are essentially identical and simple to misinterpret.As previously stated, CNN outperforms RF in this regard.***\n",
    "\n",
    "***So, for task 2, we prioritise classifier accuracy and performance (CNN) over CPU resources and training time (related to RF model)because we don't have a large number of images (around 200), allowing us to ignore the speed test train split and classifier result obtention.***\n"
   ]
  },
  {
   "cell_type": "markdown",
   "id": "2nKHGpEJpPE-",
   "metadata": {
    "id": "2nKHGpEJpPE-"
   },
   "source": [
    "# **Task 2:**"
   ]
  },
  {
   "cell_type": "markdown",
   "id": "3AC_VRpIqZCp",
   "metadata": {
    "id": "3AC_VRpIqZCp"
   },
   "source": [
    "\n",
    "\n",
    "---\n",
    "\n",
    "\n",
    "***For this part, we are going to use the CNN model for image classification of 'open' and 'closed' heart with straightforward 80/20 train/test validation and reflect on the result obtained in terms of precision, recall, f1-score runtime, ROC, and a confusion matrix.***"
   ]
  },
  {
   "cell_type": "markdown",
   "id": "_UZE1AoptaEZ",
   "metadata": {
    "id": "_UZE1AoptaEZ"
   },
   "source": [
    "***1. Data preparation***"
   ]
  },
  {
   "cell_type": "code",
   "execution_count": 30,
   "id": "c7e4a505-7b33-4464-adc7-6beffadbe687",
   "metadata": {
    "id": "c7e4a505-7b33-4464-adc7-6beffadbe687"
   },
   "outputs": [],
   "source": [
    "#[Code reference 1]\n",
    "#Preparing Data#\n",
    "input_path = r'C:\\Users\\obouk\\OneDrive\\Bureau\\Master RGU\\Advanced Data Science_Python\\CourseWork\\heart'"
   ]
  },
  {
   "cell_type": "code",
   "execution_count": 31,
   "id": "969b1ff7-86be-407b-a06d-0747793438ad",
   "metadata": {
    "id": "969b1ff7-86be-407b-a06d-0747793438ad"
   },
   "outputs": [],
   "source": [
    "images= []\n",
    "targets = []"
   ]
  },
  {
   "cell_type": "code",
   "execution_count": 32,
   "id": "95ac57be-0891-48aa-9993-3787d19b1ffb",
   "metadata": {
    "id": "95ac57be-0891-48aa-9993-3787d19b1ffb"
   },
   "outputs": [],
   "source": [
    "for t_index, target in enumerate(os.listdir(input_path)):\n",
    "    path_join= os.path.join(input_path, target)\n",
    "    for img_name in os.listdir(path_join):\n",
    "        img_path = os.path.join(path_join, img_name)\n",
    "        img = cv2.imread(img_path, cv2.IMREAD_GRAYSCALE)\n",
    "        img = cv2.resize(img, (128,128))\n",
    "        img_bin = cv2.adaptiveThreshold(img, 255,cv2.ADAPTIVE_THRESH_MEAN_C, cv2.THRESH_BINARY_INV, 13, 2)\n",
    "        images.append(img_bin.flatten())\n",
    "        targets.append(t_index)\n",
    "\n",
    "images = np.asarray(images, dtype=\"object\").astype(np.float32)\n",
    "## targets is the label index 0 for close_heart and 1 for open-heart\n",
    "targets = np.asarray(targets, dtype=\"object\").astype(np.float32)\n",
    "###Preprocess images (normalize pixel values to range [0, 1])\n",
    "images = images/ 255"
   ]
  },
  {
   "cell_type": "markdown",
   "id": "9AxJODKotdSn",
   "metadata": {
    "id": "9AxJODKotdSn"
   },
   "source": [
    "***2. BarChart for the distribution of each class:***"
   ]
  },
  {
   "cell_type": "code",
   "execution_count": 33,
   "id": "e6d14ed9-e5c5-4846-ab8b-086e6ed73de3",
   "metadata": {
    "id": "e6d14ed9-e5c5-4846-ab8b-086e6ed73de3",
    "outputId": "ddeae426-88ce-43b1-9236-9aefad8f1970"
   },
   "outputs": [
    {
     "data": {
      "image/png": "[encoded data removed]",
      "text/plain": [
       "<Figure size 640x480 with 1 Axes>"
      ]
     },
     "metadata": {},
     "output_type": "display_data"
    }
   ],
   "source": [
    "#[Code reference 8]\n",
    "class_dist_original = pd.Series(targets).value_counts()\n",
    "# Plot BarChart for each class distribution\n",
    "bars = plt.bar(class_dist_original.index, class_dist_original.values, color=['green', 'red'])\n",
    "plt.title('Class Distribution')\n",
    "plt.xlabel('Class')\n",
    "plt.ylabel('Number of images')\n",
    "plt.xticks(range(len(class_dist_original.index)), ['Closed_Heart', 'Open_Heart'])\n",
    "for bar, value in zip(bars, class_dist_original.values):\n",
    "    plt.text(bar.get_x() + bar.get_width()/2, value, str(value), ha='center', va='bottom')\n",
    "plt.show()"
   ]
  },
  {
   "cell_type": "markdown",
   "id": "3sT3UHkyuAbK",
   "metadata": {
    "id": "3sT3UHkyuAbK"
   },
   "source": [
    "***3. Train_Test Dataset and Classify the images with CNN model:***"
   ]
  },
  {
   "cell_type": "code",
   "execution_count": 34,
   "id": "1d4d058b-bc31-4671-8f38-ba1f0ac7ac74",
   "metadata": {
    "id": "1d4d058b-bc31-4671-8f38-ba1f0ac7ac74"
   },
   "outputs": [],
   "source": [
    "x_train, x_test, y_train, y_test = train_test_split(images, targets, test_size=0.2, shuffle=True, stratify=targets)"
   ]
  },
  {
   "cell_type": "markdown",
   "id": "aa0b0b58-9ba4-4da5-abb0-a509385dc896",
   "metadata": {},
   "source": [
    "***Note that the CNN model below is utilising one convolutional layer, because after attempting multiple times to raise the accuracy with this factor, this last did not increase at all, and execution time is increasing longer though.***"
   ]
  },
  {
   "cell_type": "code",
   "execution_count": 35,
   "id": "395e3ebc-86f5-422d-9bb7-eed38696a136",
   "metadata": {
    "id": "395e3ebc-86f5-422d-9bb7-eed38696a136"
   },
   "outputs": [],
   "source": [
    "#[Code Reference 5]\n",
    "def cnn_model():\n",
    "    cnn = models.Sequential([\n",
    "        layers.Input(shape=(128, 128, 1)),\n",
    "        layers.Conv2D(filters= 2, kernel_size=(3, 3), activation='relu'),\n",
    "        layers.MaxPooling2D((2, 2)),\n",
    "\n",
    "        layers.Flatten(),\n",
    "        layers.Dense(64, activation='relu'),\n",
    "        layers.Dense(2, activation='softmax')\n",
    "    ])\n",
    "    cnn.compile(optimizer='adam',\n",
    "              loss='sparse_categorical_crossentropy',\n",
    "              metrics=['accuracy'])\n",
    "    return cnn"
   ]
  },
  {
   "cell_type": "code",
   "execution_count": 46,
   "id": "c661cac1-49eb-453b-a045-ba871cceb229",
   "metadata": {
    "id": "c661cac1-49eb-453b-a045-ba871cceb229",
    "outputId": "33dd2b34-66a6-4e9d-edd1-dec7a6ce4cb5"
   },
   "outputs": [
    {
     "name": "stdout",
     "output_type": "stream",
     "text": [
      "Epoch 1/17\n",
      "6/6 [==============================] - 1s 59ms/step - loss: 1.8753 - accuracy: 0.5115 - val_loss: 0.9232 - val_accuracy: 0.3636\n",
      "Epoch 2/17\n",
      "6/6 [==============================] - 0s 36ms/step - loss: 0.8094 - accuracy: 0.6379 - val_loss: 0.8828 - val_accuracy: 0.6364\n",
      "Epoch 3/17\n",
      "6/6 [==============================] - 0s 37ms/step - loss: 0.6262 - accuracy: 0.6954 - val_loss: 0.6192 - val_accuracy: 0.6364\n",
      "Epoch 4/17\n",
      "6/6 [==============================] - 0s 36ms/step - loss: 0.5488 - accuracy: 0.7471 - val_loss: 0.4203 - val_accuracy: 0.8409\n",
      "Epoch 5/17\n",
      "6/6 [==============================] - 0s 37ms/step - loss: 0.4519 - accuracy: 0.7529 - val_loss: 0.4035 - val_accuracy: 0.7727\n",
      "Epoch 6/17\n",
      "6/6 [==============================] - 0s 36ms/step - loss: 0.3437 - accuracy: 0.8851 - val_loss: 0.3757 - val_accuracy: 0.9091\n",
      "Epoch 7/17\n",
      "6/6 [==============================] - 0s 37ms/step - loss: 0.2899 - accuracy: 0.9368 - val_loss: 0.3179 - val_accuracy: 0.8864\n",
      "Epoch 8/17\n",
      "6/6 [==============================] - 0s 36ms/step - loss: 0.2749 - accuracy: 0.9023 - val_loss: 0.2792 - val_accuracy: 0.9545\n",
      "Epoch 9/17\n",
      "6/6 [==============================] - 0s 36ms/step - loss: 0.2199 - accuracy: 0.9540 - val_loss: 0.2722 - val_accuracy: 0.9545\n",
      "Epoch 10/17\n",
      "6/6 [==============================] - 0s 37ms/step - loss: 0.1844 - accuracy: 0.9655 - val_loss: 0.2552 - val_accuracy: 0.9545\n",
      "Epoch 11/17\n",
      "6/6 [==============================] - 0s 37ms/step - loss: 0.1749 - accuracy: 0.9770 - val_loss: 0.2364 - val_accuracy: 0.9545\n",
      "Epoch 12/17\n",
      "6/6 [==============================] - 0s 36ms/step - loss: 0.1498 - accuracy: 0.9655 - val_loss: 0.2289 - val_accuracy: 0.9545\n",
      "Epoch 13/17\n",
      "6/6 [==============================] - 0s 36ms/step - loss: 0.1375 - accuracy: 0.9885 - val_loss: 0.2278 - val_accuracy: 0.9318\n",
      "Epoch 14/17\n",
      "6/6 [==============================] - 0s 37ms/step - loss: 0.1162 - accuracy: 0.9828 - val_loss: 0.2325 - val_accuracy: 0.9545\n",
      "Epoch 15/17\n",
      "6/6 [==============================] - 0s 37ms/step - loss: 0.1041 - accuracy: 0.9828 - val_loss: 0.2165 - val_accuracy: 0.9318\n",
      "Epoch 16/17\n",
      "6/6 [==============================] - 0s 41ms/step - loss: 0.0982 - accuracy: 0.9885 - val_loss: 0.2083 - val_accuracy: 0.9545\n",
      "Epoch 17/17\n",
      "6/6 [==============================] - 0s 42ms/step - loss: 0.0843 - accuracy: 0.9885 - val_loss: 0.2075 - val_accuracy: 0.9545\n",
      "Execution time: 4.335684 seconds\n"
     ]
    }
   ],
   "source": [
    "cnn = cnn_model()\n",
    "x_train_cnn = x_train.reshape(-1, 128, 128, 1)\n",
    "x_test_cnn = x_test.reshape(-1, 128, 128, 1)\n",
    "#[Code reference 2]\n",
    "start_time = time.time()\n",
    "cnn.fit(x_train_cnn, y_train, epochs= 17, validation_data=(x_test_cnn, y_test))\n",
    "end_time = time.time()\n",
    "execution_time = end_time - start_time\n",
    "print(f'Execution time: {execution_time:.6f} seconds')"
   ]
  },
  {
   "cell_type": "markdown",
   "id": "410dbf83-a6d2-442b-a055-cfbf28335ec8",
   "metadata": {},
   "source": [
    "***Remarque: The training report result vary each time we re-execute the code and this is due to training data Shuffling between epochs, the model may see the data points in a different order in each run,however it is not affecting considerably our result since the we've almost always an accuracy above 94%.***"
   ]
  },
  {
   "cell_type": "code",
   "execution_count": 47,
   "id": "f2de4547-3c2d-40c8-bb12-4b259f1ce84e",
   "metadata": {
    "id": "f2de4547-3c2d-40c8-bb12-4b259f1ce84e",
    "outputId": "628bf6e9-f805-4b67-f1cd-ceb6706b53ba"
   },
   "outputs": [
    {
     "name": "stdout",
     "output_type": "stream",
     "text": [
      "2/2 [==============================] - 0s 4ms/step\n"
     ]
    }
   ],
   "source": [
    "y_pred_cnn = cnn.predict(x_test_cnn)"
   ]
  },
  {
   "cell_type": "code",
   "execution_count": 48,
   "id": "ff97e569-415d-4799-abbd-95a28189ead7",
   "metadata": {
    "id": "ff97e569-415d-4799-abbd-95a28189ead7"
   },
   "outputs": [],
   "source": [
    "# Convert probabilities to class labels\n",
    "y_pred_cnn_labels = np.argmax(y_pred_cnn, axis=1)"
   ]
  },
  {
   "cell_type": "markdown",
   "id": "txXNxOnouSHX",
   "metadata": {
    "id": "txXNxOnouSHX"
   },
   "source": [
    "***3. Confusion Matrix visualisation for CNN model on 'OPEN' & 'CLOSED' Heart Class:***"
   ]
  },
  {
   "cell_type": "code",
   "execution_count": 49,
   "id": "2a0603db-54b9-4f51-b981-01d53f44047f",
   "metadata": {
    "id": "2a0603db-54b9-4f51-b981-01d53f44047f",
    "outputId": "29e7d2bf-ccb2-4466-a895-bcae8b82e7c1"
   },
   "outputs": [
    {
     "data": {
      "image/png": "[encoded data removed]",
      "text/plain": [
       "<Figure size 640x480 with 2 Axes>"
      ]
     },
     "metadata": {},
     "output_type": "display_data"
    }
   ],
   "source": [
    "#[Code Reference 3]\n",
    "cm_cnn = confusion_matrix(y_test, y_pred_cnn_labels)\n",
    "# Plot the confusion matrix\n",
    "cm_cnn_display= ConfusionMatrixDisplay(confusion_matrix=cm_cnn, display_labels = ['Closed_Heart', 'Open_Heart'])\n",
    "cm_cnn_display.plot()\n",
    "plt.title('Confusion matrix for CNN model')\n",
    "plt.savefig('confusion_matrix_cnn.png')"
   ]
  },
  {
   "cell_type": "markdown",
   "id": "cTxzpfTauhnv",
   "metadata": {
    "id": "cTxzpfTauhnv"
   },
   "source": [
    "***4. CNN Classification Report:***"
   ]
  },
  {
   "cell_type": "code",
   "execution_count": 50,
   "id": "d09f5280-0f08-4d3f-ac26-6c947c45444f",
   "metadata": {
    "id": "d09f5280-0f08-4d3f-ac26-6c947c45444f",
    "outputId": "4e8c957e-b53a-41a7-a954-f6c8156b9c7c"
   },
   "outputs": [
    {
     "name": "stdout",
     "output_type": "stream",
     "text": [
      "\n",
      "CNN Classification Report:\n",
      "              precision    recall  f1-score   support\n",
      "\n",
      "         0.0       0.89      1.00      0.94        16\n",
      "         1.0       1.00      0.93      0.96        28\n",
      "\n",
      "    accuracy                           0.95        44\n",
      "   macro avg       0.94      0.96      0.95        44\n",
      "weighted avg       0.96      0.95      0.96        44\n",
      "\n"
     ]
    }
   ],
   "source": [
    "#[Code Reference 4]\n",
    "print('\\nCNN Classification Report:')\n",
    "print(classification_report(y_test, y_pred_cnn_labels))\n",
    "##print(classification_report(y_test, y_pred_cnn))"
   ]
  },
  {
   "cell_type": "markdown",
   "id": "1c5d4b20-eb87-4570-8b58-4bc88d387c62",
   "metadata": {
    "id": "1c5d4b20-eb87-4570-8b58-4bc88d387c62"
   },
   "source": [
    "***Conclusion***\n",
    "\n",
    "---\n",
    "\n",
    "\n",
    "***CNN models can be more prone to overfitting, especially if they have a large number of parameters and are trained on a small dataset. which is our case I've interpreted that 15 epochs is the most appropriate parameter to avoid this phenomenon and get a high accuracy. as shown on the classification report and confusion matrix there's a tiny number of misclassification with 2 errors. and an f1-score of very good with 94%. Note that the performance might vary for different train tests, however,from observing The validation loss for our training, this factor decrease initially, but begins to grow after a specific number of epochs(17 epochs in this case).showing potential overfitting when the model gets overly specialised to the training data.***"
   ]
  },
  {
   "cell_type": "markdown",
   "id": "1y5OEi3wuw5t",
   "metadata": {
    "id": "1y5OEi3wuw5t"
   },
   "source": [
    "***5. Receiver operating characteristic Curve (ROC) Realisation:***\n",
    "\n",
    "---\n",
    "\n",
    "***The ROC curve is used to analyse the compromise between FPR and TPR in the context of a classifier system, and it allows for the evaluation and comparison of different classifiers.***"
   ]
  },
  {
   "cell_type": "code",
   "execution_count": 51,
   "id": "e5cb48a7-ab3d-4b53-bdbc-c8d441786c61",
   "metadata": {
    "id": "e5cb48a7-ab3d-4b53-bdbc-c8d441786c61",
    "outputId": "af6af5ac-da68-4ad9-f8ab-f1ba5d0ce3aa"
   },
   "outputs": [
    {
     "data": {
      "image/png": "[encoded data removed]",
      "text/plain": [
       "<Figure size 640x480 with 1 Axes>"
      ]
     },
     "metadata": {},
     "output_type": "display_data"
    }
   ],
   "source": [
    "#Reference 9: https://colab.research.google.com/drive/1cqnLIlpLbZ2aFJBB1hvrKJe9vqNI7pen?usp=sharing\n",
    "from sklearn.metrics import roc_curve, auc\n",
    "FPR, TPR, thresholds = roc_curve(y_test, y_pred_cnn[:, 1])\n",
    "AUC = auc(FPR, TPR)\n",
    "plt.plot(FPR, TPR, label='ROC curve (AUC = %0.2f)' % AUC)\n",
    "plt.plot([0, 1], [0, 1], 'k--')\n",
    "plt.xlabel('False Positive Rate')\n",
    "plt.ylabel('True Positive Rate')\n",
    "plt.title('Receiver operating characteristic')\n",
    "plt.legend(loc=\"lower right\")\n",
    "plt.savefig('roc_curve.png')\n",
    "plt.show()"
   ]
  },
  {
   "cell_type": "markdown",
   "id": "81c7f7dc-89db-4969-a8a9-0bb67ea16b85",
   "metadata": {
    "id": "81c7f7dc-89db-4969-a8a9-0bb67ea16b85"
   },
   "source": [
    "***General Conclusion***\n",
    "\n",
    "---\n",
    "\n",
    "\n",
    "***Based on the analysis of the Receiver Operating Characteristic (ROC) curve, Classification report, and Confusion matrix observation, it is possible to conclude that the CNN model performs extremely well with an Area Under the Curve (AUC) value of 0.96, indicating that this model is highly accurate in predicting and distinguishing between classes (Open and Closed Heart). However, we should highlight that we only have a limited dataset, and further testing with a larger and more diverse dataset may be required to validate the model's performance. Which will try to acheive it in the next part.***"
   ]
  },
  {
   "cell_type": "markdown",
   "id": "644c72de-8f8f-4c86-8f22-f2a4c059454a",
   "metadata": {
    "id": "f481b6a4-37cb-413f-a3a6-a17741c29c13"
   },
   "source": [
    "# **Task 3:**"
   ]
  },
  {
   "cell_type": "markdown",
   "id": "670e2c56-b0c8-4ff7-b3ec-981521a22584",
   "metadata": {},
   "source": [
    "***1. Improve Test Accuracy Using Data Augmentation:***\n",
    "\n",
    "---\n",
    "***To generate new samples from our existing datasets ('Open' and 'Closed' Heart). We will employ data augmentation to improve the accuracy of our model. We will transform our images using rotation, horizontal flip, scale, and contrast.***"
   ]
  },
  {
   "cell_type": "code",
   "execution_count": 52,
   "id": "53df674f-892f-4bf7-924e-ea67f2f62286",
   "metadata": {},
   "outputs": [],
   "source": [
    "#Reference 10: https://github.com/codebasics/deep-learning-keras-tf-tutorial/blob/master/17_data_augmentation/cnn_flower_image_classification_data_augmentations.ipynb\n",
    "\n",
    "#[Code Reference 10]\n",
    "data_augmentation = keras.Sequential(\n",
    "  [\n",
    "    #layers.experimental.preprocessing.RandomFlip(\"horizontal\", \n",
    "                                                 #input_shape=(img_height, \n",
    "                                                              #img_width,\n",
    "                                                              #1)),\n",
    "    #layers.experimental.preprocessing.RandomRotation(0.5),\n",
    "    layers.experimental.preprocessing.RandomZoom(0.1),\n",
    "  ]\n",
    ")"
   ]
  },
  {
   "cell_type": "code",
   "execution_count": 53,
   "id": "284b010d-6dff-4ac6-9c94-9da34d790e04",
   "metadata": {},
   "outputs": [],
   "source": [
    "#[Code Reference 5]\n",
    "def cnn_model_da():  \n",
    "    cnn = models.Sequential([\n",
    "        data_augmentation,\n",
    "        layers.Input(shape=(128, 128, 1)),\n",
    "        layers.Conv2D(filters= 2, kernel_size=(3, 3), activation='relu'),\n",
    "        layers.MaxPooling2D((2, 2)),        \n",
    "        layers.Dropout(0.2),\n",
    "        layers.Flatten(),\n",
    "        layers.Dense(64, activation='relu'),\n",
    "        layers.Dense(2, activation='softmax')\n",
    "    ])\n",
    "    cnn.compile(optimizer='adam',\n",
    "              loss='sparse_categorical_crossentropy',\n",
    "              metrics=['accuracy'])\n",
    "    return cnn"
   ]
  },
  {
   "cell_type": "code",
   "execution_count": 54,
   "id": "b83de3b5-29df-4038-9c45-daf96aadf840",
   "metadata": {},
   "outputs": [
    {
     "name": "stdout",
     "output_type": "stream",
     "text": [
      "Epoch 1/17\n",
      "6/6 [==============================] - 2s 63ms/step - loss: 0.7622 - accuracy: 0.5747 - val_loss: 0.5145 - val_accuracy: 0.6364\n",
      "Epoch 2/17\n",
      "6/6 [==============================] - 0s 43ms/step - loss: 0.5753 - accuracy: 0.6494 - val_loss: 0.4221 - val_accuracy: 0.7045\n",
      "Epoch 3/17\n",
      "6/6 [==============================] - 0s 43ms/step - loss: 0.4266 - accuracy: 0.8218 - val_loss: 0.3080 - val_accuracy: 0.8864\n",
      "Epoch 4/17\n",
      "6/6 [==============================] - 0s 43ms/step - loss: 0.3714 - accuracy: 0.8793 - val_loss: 0.2653 - val_accuracy: 0.9091\n",
      "Epoch 5/17\n",
      "6/6 [==============================] - 0s 41ms/step - loss: 0.3035 - accuracy: 0.8966 - val_loss: 0.3311 - val_accuracy: 0.9091\n",
      "Epoch 6/17\n",
      "6/6 [==============================] - 0s 44ms/step - loss: 0.2979 - accuracy: 0.9023 - val_loss: 0.3231 - val_accuracy: 0.8182\n",
      "Epoch 7/17\n",
      "6/6 [==============================] - 0s 41ms/step - loss: 0.2548 - accuracy: 0.8966 - val_loss: 0.2119 - val_accuracy: 0.9318\n",
      "Epoch 8/17\n",
      "6/6 [==============================] - 0s 41ms/step - loss: 0.1845 - accuracy: 0.9483 - val_loss: 0.2498 - val_accuracy: 0.9545\n",
      "Epoch 9/17\n",
      "6/6 [==============================] - 0s 39ms/step - loss: 0.1881 - accuracy: 0.9425 - val_loss: 0.2078 - val_accuracy: 0.9545\n",
      "Epoch 10/17\n",
      "6/6 [==============================] - 0s 40ms/step - loss: 0.1195 - accuracy: 0.9713 - val_loss: 0.2240 - val_accuracy: 0.9545\n",
      "Epoch 11/17\n",
      "6/6 [==============================] - 0s 39ms/step - loss: 0.1349 - accuracy: 0.9655 - val_loss: 0.2492 - val_accuracy: 0.9545\n",
      "Epoch 12/17\n",
      "6/6 [==============================] - 0s 43ms/step - loss: 0.1012 - accuracy: 0.9828 - val_loss: 0.2456 - val_accuracy: 0.8864\n",
      "Epoch 13/17\n",
      "6/6 [==============================] - 0s 39ms/step - loss: 0.0949 - accuracy: 0.9828 - val_loss: 0.2429 - val_accuracy: 0.9091\n",
      "Epoch 14/17\n",
      "6/6 [==============================] - 0s 39ms/step - loss: 0.0792 - accuracy: 0.9828 - val_loss: 0.2456 - val_accuracy: 0.9318\n",
      "Epoch 15/17\n",
      "6/6 [==============================] - 0s 45ms/step - loss: 0.0661 - accuracy: 0.9885 - val_loss: 0.2498 - val_accuracy: 0.9091\n",
      "Epoch 16/17\n",
      "6/6 [==============================] - 0s 41ms/step - loss: 0.0724 - accuracy: 0.9828 - val_loss: 0.2771 - val_accuracy: 0.9545\n",
      "Epoch 17/17\n",
      "6/6 [==============================] - 0s 40ms/step - loss: 0.0567 - accuracy: 0.9885 - val_loss: 0.2399 - val_accuracy: 0.9091\n",
      "Execution time: 6.302991 seconds\n"
     ]
    }
   ],
   "source": [
    "cnn_da = cnn_model_da()\n",
    "\n",
    "#[Code reference 2]\n",
    "start_time = time.time()\n",
    "cnn_da.fit(x_train_cnn, y_train, epochs= 17, validation_data=(x_test_cnn, y_test))\n",
    "end_time = time.time()\n",
    "execution_time = end_time - start_time\n",
    "print(f'Execution time: {execution_time:.6f} seconds')"
   ]
  },
  {
   "cell_type": "markdown",
   "id": "db70b93e-f45c-4b77-8074-4522feaa1c57",
   "metadata": {},
   "source": [
    "***As Seen, The result from the Training DataSet is very accurate, Next of that we need to evaluate this in a Test Dataset***"
   ]
  },
  {
   "cell_type": "code",
   "execution_count": 55,
   "id": "6d863100-9e59-4df6-b305-ae1f0928d763",
   "metadata": {},
   "outputs": [
    {
     "name": "stdout",
     "output_type": "stream",
     "text": [
      "Test Dataset Accuracy\n",
      "2/2 [==============================] - 0s 7ms/step - loss: 0.2075 - accuracy: 0.9545\n"
     ]
    },
    {
     "data": {
      "text/plain": [
       "[0.20748478174209595, 0.9545454382896423]"
      ]
     },
     "execution_count": 55,
     "metadata": {},
     "output_type": "execute_result"
    }
   ],
   "source": [
    "print('Test Dataset Accuracy')\n",
    "cnn.evaluate(x_test_cnn,y_test)"
   ]
  },
  {
   "cell_type": "code",
   "execution_count": 56,
   "id": "94b20190-b323-4f01-b982-fbe53095137e",
   "metadata": {},
   "outputs": [
    {
     "name": "stdout",
     "output_type": "stream",
     "text": [
      "2/2 [==============================] - 0s 6ms/step\n"
     ]
    }
   ],
   "source": [
    "y_pred_cnn = cnn.predict(x_test_cnn)\n",
    "# Convert probabilities to class labels\n",
    "y_pred_cnn_labels = np.argmax(y_pred_cnn, axis=1)"
   ]
  },
  {
   "cell_type": "code",
   "execution_count": 57,
   "id": "0c9b8f26-361a-4ffd-b2e1-c5e0b640c654",
   "metadata": {},
   "outputs": [
    {
     "name": "stdout",
     "output_type": "stream",
     "text": [
      "\n",
      "CNN Classification Report:\n",
      "              precision    recall  f1-score   support\n",
      "\n",
      "         0.0       0.89      1.00      0.94        16\n",
      "         1.0       1.00      0.93      0.96        28\n",
      "\n",
      "    accuracy                           0.95        44\n",
      "   macro avg       0.94      0.96      0.95        44\n",
      "weighted avg       0.96      0.95      0.96        44\n",
      "\n"
     ]
    }
   ],
   "source": [
    "#[Code Reference 4]\n",
    "print('\\nCNN Classification Report:')\n",
    "print(classification_report(y_test, y_pred_cnn_labels))\n",
    "##print(classification_report(y_test, y_pred_cnn))"
   ]
  },
  {
   "cell_type": "markdown",
   "id": "e32e82bb-712a-447b-afb8-f972693d459e",
   "metadata": {},
   "source": [
    "***Conclusion***\n",
    "---\n",
    "\n",
    "***When attempting to improve test accuracy using data augmentation techniques such rotation, flipping, zooming ,Experimenting  with different combinations and parameters to find what works best for our specific data, it reveals that the accuracy have been stayed steady only when the zooming technique is used. The majority of the tests leaded to overfitting or degradation in performance. To avoid overfitting on a limited dataset like in this situation, the model must be relatively simple. However, a simpler model may be unable to properly utilise the augmented data to increase performance.There is a delicate balance between model complexity and dataset size.***\n",
    "\n",
    "---"
   ]
  },
  {
   "cell_type": "code",
   "execution_count": 58,
   "id": "675a67e4-12f9-418f-aa54-90041eef3989",
   "metadata": {},
   "outputs": [
    {
     "name": "stdout",
     "output_type": "stream",
     "text": [
      "The image 0 is accurate and it is an open heart\n",
      "The image 1 is accurate and it is a closed heart\n",
      "The image 2 is accurate and it is an open heart\n",
      "The image 3 is accurate and it is a closed heart\n",
      "The image 4 is accurate and it is an open heart\n",
      "The image 5 is accurate and it is a closed heart\n",
      "The image 6 is accurate and it is an open heart\n",
      "The image 7 is accurate and it is an open heart\n",
      "The image 8 is accurate and it is an open heart\n",
      "The image 9 is accurate and it is an open heart\n",
      "The image 10 is accurate and it is a closed heart\n",
      "The image 11 is accurate and it is an open heart\n",
      "The image 12 is accurate and it is an open heart\n",
      "The image 13 is accurate and it is a closed heart\n",
      "The image 14 is accurate and it is an open heart\n",
      "The image 15 is accurate and it is a closed heart\n",
      "The image 16 is accurate and it is a closed heart\n",
      "The image 17 is accurate and it is a closed heart\n",
      "The image 18 is accurate and it is an open heart\n",
      "The image 19 is closed heart but it should be open heart\"FP\"\n",
      "The image 20 is accurate and it is an open heart\n",
      "The image 21 is closed heart but it should be open heart\"FP\"\n",
      "The image 22 is accurate and it is a closed heart\n",
      "The image 23 is accurate and it is an open heart\n",
      "The image 24 is accurate and it is an open heart\n",
      "The image 25 is accurate and it is an open heart\n",
      "The image 26 is accurate and it is a closed heart\n",
      "The image 27 is accurate and it is a closed heart\n",
      "The image 28 is accurate and it is an open heart\n",
      "The image 29 is accurate and it is an open heart\n",
      "The image 30 is accurate and it is an open heart\n",
      "The image 31 is accurate and it is an open heart\n",
      "The image 32 is accurate and it is an open heart\n",
      "The image 33 is accurate and it is an open heart\n",
      "The image 34 is accurate and it is a closed heart\n",
      "The image 35 is accurate and it is an open heart\n",
      "The image 36 is accurate and it is a closed heart\n",
      "The image 37 is accurate and it is an open heart\n",
      "The image 38 is accurate and it is an open heart\n",
      "The image 39 is accurate and it is a closed heart\n",
      "The image 40 is accurate and it is a closed heart\n",
      "The image 41 is accurate and it is an open heart\n",
      "The image 42 is accurate and it is an open heart\n",
      "The image 43 is accurate and it is a closed heart\n"
     ]
    }
   ],
   "source": [
    "for index in range(len(y_pred_cnn)):\n",
    "    predicted_label = np.argmax(y_pred_cnn[index])\n",
    "    true_label = int(y_test[index])\n",
    "    \n",
    "    if predicted_label == true_label:\n",
    "        if true_label == 0:\n",
    "            print('The image', index, 'is accurate and it is a closed heart')\n",
    "        elif true_label == 1:\n",
    "            print('The image', index, 'is accurate and it is an open heart')\n",
    "    else:\n",
    "        if true_label == 0:\n",
    "            print('The image', index, 'is open heart but it should be closed heart\"FN\"')\n",
    "        elif true_label == 1:\n",
    "            print('The image', index, 'is closed heart but it should be open heart\"FP\"')\n"
   ]
  },
  {
   "cell_type": "markdown",
   "id": "ac93bdc6-7dfa-43ea-a124-fa431f1264ba",
   "metadata": {},
   "source": [
    "***The purpose of the results that are demonstrated above is to identify which test_image is correct by comparing it to the image predicted by the (CNN) model. We can check this using the confusion matrix below.***"
   ]
  },
  {
   "cell_type": "code",
   "execution_count": 59,
   "id": "8e349c85-689b-466d-b1c2-b37b3350a48b",
   "metadata": {},
   "outputs": [
    {
     "data": {
      "image/png": "[encoded data removed]",
      "text/plain": [
       "<Figure size 640x480 with 2 Axes>"
      ]
     },
     "metadata": {},
     "output_type": "display_data"
    }
   ],
   "source": [
    "#[Code Reference 3]\n",
    "cm_cnn = confusion_matrix(y_test, y_pred_cnn_labels)\n",
    "# Plot the confusion matrix\n",
    "cm_cnn_display= ConfusionMatrixDisplay(confusion_matrix=cm_cnn, display_labels = ['Closed_Heart', 'Open_Heart'])\n",
    "cm_cnn_display.plot()\n",
    "plt.title('Confusion matrix for CNN model')\n",
    "plt.savefig('confusion_matrix_cnn.png')"
   ]
  },
  {
   "cell_type": "markdown",
   "id": "d98bf03e-f6f2-4228-9f6b-cfbc9bf4908b",
   "metadata": {},
   "source": [
    "***2. Improve Test Accuracy Using Transfer Learning and data augmentation:***"
   ]
  },
  {
   "cell_type": "code",
   "execution_count": 69,
   "id": "b6ca8f9a-a702-42b5-b248-f3d0da31564d",
   "metadata": {},
   "outputs": [],
   "source": [
    "#Reference 11: https://github.com/codebasics/deep-learning-keras-tf-tutorial/blob/master/18_transfer_learning/cnn_transfer_learning.ipynb\n",
    "#Reference 12:https://colab.research.google.com/drive/19g5upxxkOiEAgj6TFyDmCXwYpQbGLdQx?usp=sharing#scrollTo=O23RX4RAVCsI\n",
    "#[Code Reference 11]\n",
    "#[Code Reference 5]\n",
    "\n",
    "def cnn_model_transfer_learning():\n",
    "    inputs = layers.Input(shape=(128, 128, 3))\n",
    "    x = data_augmentation(inputs)\n",
    "\n",
    "    #x = inputs\n",
    "    base_model = ResNet50(weights='imagenet', include_top=False, input_tensor=x)\n",
    "    x = base_model.output\n",
    "    x = layers.GlobalAveragePooling2D()(x)\n",
    "    x = layers.Dense(64, activation='relu')(x)\n",
    "    predictions = layers.Dense(2, activation='softmax')(x)\n",
    "    model = models.Model(inputs=inputs, outputs=predictions)\n",
    "    for layer in base_model.layers:\n",
    "        layer.trainable = False\n",
    "    model.compile(optimizer='adam',\n",
    "                  loss='sparse_categorical_crossentropy',\n",
    "                  metrics=['accuracy'])\n",
    "    return model"
   ]
  },
  {
   "cell_type": "code",
   "execution_count": 70,
   "id": "1629caa2-93d6-46e0-80bf-a5bed79db721",
   "metadata": {},
   "outputs": [
    {
     "name": "stdout",
     "output_type": "stream",
     "text": [
      "Epoch 1/17\n",
      "6/6 [==============================] - 8s 1s/step - loss: 0.6863 - accuracy: 0.5517 - val_loss: 0.5985 - val_accuracy: 0.6364\n",
      "Epoch 2/17\n",
      "6/6 [==============================] - 5s 809ms/step - loss: 0.5975 - accuracy: 0.7586 - val_loss: 0.5640 - val_accuracy: 0.8636\n",
      "Epoch 3/17\n",
      "6/6 [==============================] - 5s 824ms/step - loss: 0.5278 - accuracy: 0.7701 - val_loss: 0.5129 - val_accuracy: 0.7045\n",
      "Epoch 4/17\n",
      "6/6 [==============================] - 5s 841ms/step - loss: 0.5140 - accuracy: 0.7299 - val_loss: 0.4736 - val_accuracy: 0.7955\n",
      "Epoch 5/17\n",
      "6/6 [==============================] - 5s 819ms/step - loss: 0.4637 - accuracy: 0.7931 - val_loss: 0.4501 - val_accuracy: 0.8182\n",
      "Epoch 6/17\n",
      "6/6 [==============================] - 5s 781ms/step - loss: 0.4345 - accuracy: 0.7701 - val_loss: 0.4287 - val_accuracy: 0.7955\n",
      "Epoch 7/17\n",
      "6/6 [==============================] - 5s 772ms/step - loss: 0.4265 - accuracy: 0.7874 - val_loss: 0.4203 - val_accuracy: 0.8636\n",
      "Epoch 8/17\n",
      "6/6 [==============================] - 5s 866ms/step - loss: 0.3994 - accuracy: 0.7989 - val_loss: 0.3946 - val_accuracy: 0.8636\n",
      "Epoch 9/17\n",
      "6/6 [==============================] - 5s 845ms/step - loss: 0.3696 - accuracy: 0.8621 - val_loss: 0.3955 - val_accuracy: 0.8864\n",
      "Epoch 10/17\n",
      "6/6 [==============================] - 5s 816ms/step - loss: 0.3554 - accuracy: 0.8851 - val_loss: 0.3665 - val_accuracy: 0.9091\n",
      "Epoch 11/17\n",
      "6/6 [==============================] - 5s 799ms/step - loss: 0.3352 - accuracy: 0.8851 - val_loss: 0.3530 - val_accuracy: 0.9318\n",
      "Epoch 12/17\n",
      "6/6 [==============================] - 5s 785ms/step - loss: 0.3193 - accuracy: 0.9080 - val_loss: 0.3419 - val_accuracy: 0.9318\n",
      "Epoch 13/17\n",
      "6/6 [==============================] - 5s 798ms/step - loss: 0.3028 - accuracy: 0.9253 - val_loss: 0.3264 - val_accuracy: 0.9318\n",
      "Epoch 14/17\n",
      "6/6 [==============================] - 5s 855ms/step - loss: 0.2906 - accuracy: 0.9023 - val_loss: 0.3171 - val_accuracy: 0.9318\n",
      "Epoch 15/17\n",
      "6/6 [==============================] - 5s 819ms/step - loss: 0.2777 - accuracy: 0.9253 - val_loss: 0.3056 - val_accuracy: 0.9318\n",
      "Epoch 16/17\n",
      "6/6 [==============================] - 5s 775ms/step - loss: 0.2668 - accuracy: 0.9540 - val_loss: 0.2942 - val_accuracy: 0.9545\n",
      "Epoch 17/17\n",
      "6/6 [==============================] - 5s 791ms/step - loss: 0.2562 - accuracy: 0.9310 - val_loss: 0.2821 - val_accuracy: 0.9318\n",
      "Execution time: 84.532878 seconds\n"
     ]
    }
   ],
   "source": [
    "cnn_tl = cnn_model_transfer_learning()\n",
    "x_train_cnn_tl = x_train.reshape(-1, 128, 128, 1).repeat(3, axis=-1)\n",
    "x_test_cnn_tl = x_test.reshape(-1, 128, 128, 1).repeat(3, axis=-1)\n",
    "\n",
    "start_time = time.time()\n",
    "cnn_tl.fit(x_train_cnn_tl, y_train, epochs=17, validation_data=(x_test_cnn_tl, y_test))\n",
    "end_time = time.time()\n",
    "execution_time = end_time - start_time\n",
    "print(f'Execution time: {execution_time:.6f} seconds')"
   ]
  },
  {
   "cell_type": "code",
   "execution_count": 71,
   "id": "7e258498-d241-4351-97be-11e3acb14d01",
   "metadata": {},
   "outputs": [
    {
     "name": "stdout",
     "output_type": "stream",
     "text": [
      "Test Dataset Accuracy using TL and DA\n",
      "2/2 [==============================] - 1s 254ms/step - loss: 0.2821 - accuracy: 0.9318\n"
     ]
    },
    {
     "data": {
      "text/plain": [
       "[0.2821144163608551, 0.9318181872367859]"
      ]
     },
     "execution_count": 71,
     "metadata": {},
     "output_type": "execute_result"
    }
   ],
   "source": [
    "print('Test Dataset Accuracy using TL and DA')\n",
    "cnn_tl.evaluate(x_test_cnn_tl,y_test)"
   ]
  },
  {
   "cell_type": "code",
   "execution_count": 72,
   "id": "711d5188-5677-4666-bb4d-97cb915c1446",
   "metadata": {},
   "outputs": [
    {
     "name": "stdout",
     "output_type": "stream",
     "text": [
      "WARNING:tensorflow:5 out of the last 11 calls to <function Model.make_predict_function.<locals>.predict_function at 0x0000014AA8F39EE0> triggered tf.function retracing. Tracing is expensive and the excessive number of tracings could be due to (1) creating @tf.function repeatedly in a loop, (2) passing tensors with different shapes, (3) passing Python objects instead of tensors. For (1), please define your @tf.function outside of the loop. For (2), @tf.function has reduce_retracing=True option that can avoid unnecessary retracing. For (3), please refer to https://www.tensorflow.org/guide/function#controlling_retracing and https://www.tensorflow.org/api_docs/python/tf/function for  more details.\n",
      "2/2 [==============================] - 2s 273ms/step\n"
     ]
    }
   ],
   "source": [
    "y_pred_cnn_tl = cnn_tl.predict(x_test_cnn_tl)\n",
    "# Convert probabilities to class labels\n",
    "y_pred_cnn_labels_tl = np.argmax(y_pred_cnn_tl, axis=1)"
   ]
  },
  {
   "cell_type": "code",
   "execution_count": 73,
   "id": "f36dc55a-9bc6-4477-b57d-5ab83e5e2bc4",
   "metadata": {},
   "outputs": [
    {
     "name": "stdout",
     "output_type": "stream",
     "text": [
      "\n",
      "CNN Classification Report with Data augmentation and transfer learning:\n",
      "              precision    recall  f1-score   support\n",
      "\n",
      "         0.0       0.93      0.88      0.90        16\n",
      "         1.0       0.93      0.96      0.95        28\n",
      "\n",
      "    accuracy                           0.93        44\n",
      "   macro avg       0.93      0.92      0.93        44\n",
      "weighted avg       0.93      0.93      0.93        44\n",
      "\n"
     ]
    }
   ],
   "source": [
    "#[Code Reference 4]\n",
    "print('\\nCNN Classification Report with Data augmentation and transfer learning:')\n",
    "print(classification_report(y_test, y_pred_cnn_labels_tl))\n",
    "##print(classification_report(y_test, y_pred_cnn))"
   ]
  },
  {
   "cell_type": "code",
   "execution_count": 74,
   "id": "80563d58-e831-461a-858c-3fdafd426ab3",
   "metadata": {
    "scrolled": true
   },
   "outputs": [
    {
     "data": {
      "image/png": "[encoded data removed]",
      "text/plain": [
       "<Figure size 640x480 with 2 Axes>"
      ]
     },
     "metadata": {},
     "output_type": "display_data"
    }
   ],
   "source": [
    "#[Code Reference 3]\n",
    "cm_cnn = confusion_matrix(y_test, y_pred_cnn_labels_tl)\n",
    "# Plot the confusion matrix\n",
    "cm_cnn_display= ConfusionMatrixDisplay(confusion_matrix=cm_cnn, display_labels = ['Closed_Heart', 'Open_Heart'])\n",
    "cm_cnn_display.plot()\n",
    "plt.title('Confusion matrix for CNN model')\n",
    "plt.savefig('confusion_matrix_cnn.png')"
   ]
  },
  {
   "cell_type": "markdown",
   "id": "d9d14527-6455-4375-86c3-fac92bfcfed7",
   "metadata": {},
   "source": [
    "***General Conclusion*** \n",
    "---\n",
    "***The accuracy resulted from the classification report on CNN model using data augmentation and transfer learning methods is slightly lower than the CNN model alone with 93%, but it still has good accuracy, several factors can contribute to that, especially with a small dataset size, which as previously mentioned, we need to balance model complexity. Transfer learning introduces additional trainable parameters to the model, increasing the risk of overfitting.***"
   ]
  },
  {
   "cell_type": "markdown",
   "id": "c81b4410-3df7-4c9d-ae22-32e5773baab2",
   "metadata": {},
   "source": [
    "***3. Improving Test Accuracy Using segmentation algorithm U.NET:***"
   ]
  },
  {
   "cell_type": "code",
   "execution_count": 79,
   "id": "72cf7353-d959-4932-be89-7c07410933e8",
   "metadata": {},
   "outputs": [
    {
     "name": "stdout",
     "output_type": "stream",
     "text": [
      "Epoch 1/10\n",
      "6/6 [==============================] - 72s 11s/step - loss: 0.5988 - precision_1: 0.3556 - recall_1: 0.2612 - f1_score: 0.1406 - val_loss: 0.4780 - val_precision_1: 0.7865 - val_recall_1: 0.0167 - val_f1_score: 0.0184\n",
      "Epoch 2/10\n",
      "6/6 [==============================] - 67s 11s/step - loss: 0.2893 - precision_1: 0.8863 - recall_1: 0.1484 - f1_score: 0.2709 - val_loss: 0.3979 - val_precision_1: 0.8715 - val_recall_1: 0.0448 - val_f1_score: 0.0655\n",
      "Epoch 3/10\n",
      "6/6 [==============================] - 66s 11s/step - loss: 0.2528 - precision_1: 0.9087 - recall_1: 0.2290 - f1_score: 0.4126 - val_loss: 0.3683 - val_precision_1: 0.8261 - val_recall_1: 0.0642 - val_f1_score: 0.0958\n",
      "Epoch 4/10\n",
      "6/6 [==============================] - 67s 11s/step - loss: 0.2264 - precision_1: 0.9354 - recall_1: 0.2833 - f1_score: 0.4904 - val_loss: 0.3539 - val_precision_1: 0.7045 - val_recall_1: 0.0787 - val_f1_score: 0.1210\n",
      "Epoch 5/10\n",
      "6/6 [==============================] - 66s 11s/step - loss: 0.2122 - precision_1: 0.9521 - recall_1: 0.3035 - f1_score: 0.5444 - val_loss: 0.3816 - val_precision_1: 0.6390 - val_recall_1: 0.1936 - val_f1_score: 0.1746\n",
      "Epoch 6/10\n",
      "6/6 [==============================] - 66s 11s/step - loss: 0.2139 - precision_1: 0.9412 - recall_1: 0.2934 - f1_score: 0.5408 - val_loss: 0.3571 - val_precision_1: 0.7653 - val_recall_1: 0.0815 - val_f1_score: 0.1593\n",
      "Epoch 7/10\n",
      "6/6 [==============================] - 66s 11s/step - loss: 0.2003 - precision_1: 0.9563 - recall_1: 0.3165 - f1_score: 0.5626 - val_loss: 0.3810 - val_precision_1: 0.9174 - val_recall_1: 0.0625 - val_f1_score: 0.1543\n",
      "Epoch 8/10\n",
      "6/6 [==============================] - 66s 11s/step - loss: 0.1915 - precision_1: 0.9627 - recall_1: 0.3208 - f1_score: 0.5901 - val_loss: 0.4123 - val_precision_1: 0.9447 - val_recall_1: 0.0375 - val_f1_score: 0.1069\n",
      "Epoch 9/10\n",
      "6/6 [==============================] - 70s 12s/step - loss: 0.1863 - precision_1: 0.9635 - recall_1: 0.3202 - f1_score: 0.5955 - val_loss: 0.4417 - val_precision_1: 0.9911 - val_recall_1: 0.0199 - val_f1_score: 0.0648\n",
      "Epoch 10/10\n",
      "6/6 [==============================] - 73s 12s/step - loss: 0.1823 - precision_1: 0.9644 - recall_1: 0.3291 - f1_score: 0.5951 - val_loss: 0.4733 - val_precision_1: 0.9602 - val_recall_1: 0.0173 - val_f1_score: 0.0574\n",
      "Execution time: 679.359958 seconds\n"
     ]
    }
   ],
   "source": [
    "#Reference: https://www.youtube.com/watch?v=IHq1t7NxS8k\n",
    "#Reference: https://github.com/codebasics/deep-learning-keras-tf-tutorial/blob/master/13_dropout_layer/dropout_regularization_ann.ipynb\n",
    "\n",
    "input_path = r'C:\\Users\\obouk\\OneDrive\\Bureau\\Master RGU\\Advanced Data Science_Python\\CourseWork\\Task3\\heart'\n",
    "mask_path = r'C:\\Users\\obouk\\OneDrive\\Bureau\\Master RGU\\Advanced Data Science_Python\\CourseWork\\Task3\\masks'\n",
    "\n",
    "heart_images = []\n",
    "annotated_masks = []\n",
    "\n",
    "for img_name in os.listdir(input_path):\n",
    "    img_path = os.path.join(input_path, img_name)\n",
    "    \n",
    "    img = cv2.imread(img_path, cv2.IMREAD_GRAYSCALE)\n",
    "    mask_name = img_name\n",
    "    \n",
    "    mask_img_path = os.path.join(mask_path, mask_name)\n",
    "    mask = cv2.imread(mask_img_path, cv2.IMREAD_GRAYSCALE)\n",
    "    if mask is None:\n",
    "        print(f\"Skipping {img_name}: Mask image could not be loaded.\")\n",
    "        continue\n",
    "    if img.shape != mask.shape:\n",
    "        print(f\"Skipping {img_name} and {mask_name}: Image and mask shapes are not consistent.\")\n",
    "        continue\n",
    "    heart_images.append(img)\n",
    "    annotated_masks.append(mask)\n",
    "heart_images = np.asarray(heart_images).astype(np.float32)\n",
    "annotated_masks = np.asarray(annotated_masks).astype(np.float32)\n",
    "\n",
    "heart_images = heart_images / 255\n",
    "annotated_masks = annotated_masks / 255\n",
    "\n",
    "heart_images = heart_images.reshape((-1, 128, 128, 1))\n",
    "annotated_masks = annotated_masks.reshape((-1, 128, 128, 1))\n",
    "x_train, x_test, y_train, y_test = train_test_split(heart_images, annotated_masks, test_size=0.2, random_state=42)\n",
    "data_augmentation = keras.Sequential(\n",
    "    [\n",
    "        #layers.experimental.preprocessing.RandomFlip(\"horizontal\"),\n",
    "        #layers.experimental.preprocessing.RandomRotation(0.1),\n",
    "        layers.experimental.preprocessing.RandomZoom(0.1),\n",
    "    ]\n",
    ")\n",
    "\n",
    "# Define UNet model with increased complexity and dropout regularization\n",
    "def unet_model(optimizer='adam'):\n",
    "    inputs = keras.Input(shape=(128, 128, 1))\n",
    "    \n",
    "    augmented_inputs = data_augmentation(inputs)\n",
    "    \n",
    "    # Encoder\n",
    "    conv1 = layers.Conv2D(64, 3, activation='relu', padding='same', kernel_initializer='he_normal')(augmented_inputs)\n",
    "    conv1 = layers.Conv2D(64, 3, activation='relu', padding='same', kernel_initializer='he_normal')(conv1)\n",
    "    pool1 = layers.MaxPooling2D(pool_size=(2, 2))(conv1)\n",
    "    pool1 = layers.BatchNormalization()(pool1)\n",
    "    \n",
    "    conv2 = layers.Conv2D(128, 3, activation='relu', padding='same', kernel_initializer='he_normal')(pool1)\n",
    "    conv2 = layers.Conv2D(128, 3, activation='relu', padding='same', kernel_initializer='he_normal')(conv2)\n",
    "    pool2 = layers.MaxPooling2D(pool_size=(2, 2))(conv2)\n",
    "    pool2 = layers.BatchNormalization()(pool2)\n",
    "    \n",
    "    # Decoder\n",
    "    up1 = layers.UpSampling2D(size=(2, 2))(pool2)\n",
    "    up1 = layers.concatenate([conv2, up1], axis=3)\n",
    "    up1 = layers.BatchNormalization()(up1)\n",
    "    conv3 = layers.Conv2D(128, 3, activation='relu', padding='same', kernel_initializer='he_normal')(up1)\n",
    "    conv3 = layers.Conv2D(128, 3, activation='relu', padding='same', kernel_initializer='he_normal')(conv3)\n",
    "    \n",
    "    up2 = layers.UpSampling2D(size=(2, 2))(conv3)\n",
    "    up2 = layers.concatenate([conv1, up2], axis=3)\n",
    "    up2 = layers.BatchNormalization()(up2)\n",
    "    conv4 = layers.Conv2D(64, 3, activation='relu', padding='same', kernel_initializer='he_normal')(up2)\n",
    "    conv4 = layers.Conv2D(64, 3, activation='relu', padding='same', kernel_initializer='he_normal')(conv4)\n",
    "    outputs = layers.Conv2D(1, 1, activation='sigmoid')(conv4)\n",
    "    \n",
    "    model = models.Model(inputs=inputs, outputs=outputs)\n",
    "    \n",
    "    model.compile(optimizer=optimizer, loss='binary_crossentropy', metrics=['accuracy', 'precision', 'recall', 'f1_score'])\n",
    "    return model\n",
    "\n",
    "\n",
    "def precision(y_true, y_pred):\n",
    "    true_positives = K.sum(K.round(K.clip(y_true * y_pred, 0, 1)))\n",
    "    predicted_positives = K.sum(K.round(K.clip(y_pred, 0, 1)))\n",
    "    precision = true_positives / (predicted_positives + K.epsilon())\n",
    "    return precision\n",
    "\n",
    "def recall(y_true, y_pred):\n",
    "    true_positives = K.sum(K.round(K.clip(y_true * y_pred, 0, 1)))\n",
    "    possible_positives = K.sum(K.round(K.clip(y_true, 0, 1)))\n",
    "    recall = true_positives / (possible_positives + K.epsilon())\n",
    "    return recall\n",
    "\n",
    "def f1_score(y_true, y_pred):\n",
    "    precision_value = precision(y_true, y_pred)\n",
    "    recall_value = recall(y_true, y_pred)\n",
    "    return 2 * ((precision_value * recall_value) / (precision_value + recall_value + K.epsilon()))\n",
    "\n",
    "precision_metric = tf.keras.metrics.Precision()\n",
    "recall_metric = tf.keras.metrics.Recall()\n",
    "f1_score_metric = f1_score\n",
    "model = unet_model()\n",
    "model.compile(optimizer='adam', loss='binary_crossentropy', metrics=[precision_metric, recall_metric, f1_score_metric])\n",
    "\n",
    "# Train the model\n",
    "start_time = time.time()\n",
    "history = model.fit(x_train, y_train, epochs=10, validation_data=(x_test, y_test))\n",
    "end_time = time.time()\n",
    "execution_time = end_time - start_time\n",
    "print(f'Execution time: {execution_time:.6f} seconds')"
   ]
  },
  {
   "cell_type": "code",
   "execution_count": 82,
   "id": "0d1b4cce-5401-4958-96ae-f8aeef28e21d",
   "metadata": {},
   "outputs": [
    {
     "name": "stdout",
     "output_type": "stream",
     "text": [
      "2/2 [==============================] - 3s 841ms/step\n",
      "Classification report using U.NET:\n",
      "              precision    recall  f1-score   support\n",
      "\n",
      "         0.0       0.87      1.00      0.93    626246\n",
      "         1.0       0.80      0.03      0.07     94650\n",
      "\n",
      "    accuracy                           0.87    720896\n",
      "   macro avg       0.84      0.52      0.50    720896\n",
      "weighted avg       0.86      0.87      0.82    720896\n",
      "\n"
     ]
    }
   ],
   "source": [
    "y_pred = model.predict(x_test)\n",
    "y_pred_binary = (y_pred > 0.5).astype(np.float32)\n",
    "y_test_binary = (y_test > 0.5).astype(np.float32)\n",
    "print('Classification report using U.NET:')\n",
    "print(classification_report(y_test_binary.flatten(), y_pred_binary.flatten()))\n"
   ]
  },
  {
   "cell_type": "markdown",
   "id": "d4cc2c3a-cfa2-4bf8-b64a-c0fb6672ab46",
   "metadata": {},
   "source": [
    "***After executing the segmentation algorithm U.NET, we concluded that the model obtained an accuracy of 87%, which is satisfactory.***"
   ]
  },
  {
   "cell_type": "markdown",
   "id": "2d830e1e-5bfd-4428-9a9f-f29df9fd48d7",
   "metadata": {},
   "source": [
    "\n",
    "***Final Conclusion*** \n",
    "\n",
    "---\n",
    "***To summarise, based on the results of various model training, we can progressively change several factors in order to marginally improve the performance of our training model (CNN model). In summary, the CNN classification model exceeds the U-Net segmentation algorithm in terms of execution time, which is significantly higher, as well as accuracy.This could be owing to the smaller dataset size, where the U-Net segmentation algorithm might struggle compared to the CNN classifier, which may perform better because to its capacity to generalise patterns despite small data. Also, keep the model simple to avoid overfitting, which was a major issue in our investigation.***"
   ]
  },
  {
   "cell_type": "code",
   "execution_count": null,
   "id": "dbde96ba-81bf-4711-abab-80113404c7f9",
   "metadata": {},
   "outputs": [],
   "source": []
  },
  {
   "cell_type": "markdown",
   "id": "a2f36b44-c807-42b0-b854-cc18a505c98a",
   "metadata": {},
   "source": [
    "***Thank You!*** "
   ]
  },
  {
   "cell_type": "code",
   "execution_count": 93,
   "id": "731eeb49-9467-4654-a26d-b9b462284d0f",
   "metadata": {},
   "outputs": [
    {
     "name": "stdout",
     "output_type": "stream",
     "text": [
      "647\n"
     ]
    }
   ],
   "source": [
    "import io\n",
    "from nbformat import current\n",
    "\n",
    "filepath = 'coursework.ipynb' #this is the name of your coursework file!\n",
    "\n",
    "with io.open(filepath, 'r', encoding='utf-8') as f:\n",
    "    nb = current.read(f, 'ipynb')\n",
    "\n",
    "word_count = 0\n",
    "for cell in nb.worksheets[0].cells:\n",
    "    if cell.cell_type == \"markdown\":\n",
    "        word_count += len(cell['source'].replace('#', '').lstrip().split(' '))\n",
    "print(word_count)"
   ]
  },
  {
   "cell_type": "code",
   "execution_count": null,
   "id": "4ef883da-fdb4-4bf4-a7c8-0fee330299e2",
   "metadata": {},
   "outputs": [],
   "source": []
  }
 ],
 "metadata": {
  "colab": {
   "provenance": [],
   "toc_visible": true
  },
  "kernelspec": {
   "display_name": "Python 3 (ipykernel)",
   "language": "python",
   "name": "python3"
  },
  "language_info": {
   "codemirror_mode": {
    "name": "ipython",
    "version": 3
   },
   "file_extension": ".py",
   "mimetype": "text/x-python",
   "name": "python",
   "nbconvert_exporter": "python",
   "pygments_lexer": "ipython3",
   "version": "3.12.7"
  }
 },
 "nbformat": 4,
 "nbformat_minor": 5
}
